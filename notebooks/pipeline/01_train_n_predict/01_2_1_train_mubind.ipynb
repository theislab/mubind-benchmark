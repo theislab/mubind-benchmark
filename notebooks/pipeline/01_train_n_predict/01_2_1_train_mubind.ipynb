{
 "cells": [
  {
   "attachments": {},
   "cell_type": "markdown",
   "metadata": {},
   "source": [
    "### List datasets that will be used for training with scBasset"
   ]
  },
  {
   "cell_type": "code",
   "execution_count": 1,
   "metadata": {},
   "outputs": [],
   "source": [
    "%load_ext autoreload\n",
    "%autoreload 2"
   ]
  },
  {
   "cell_type": "code",
   "execution_count": 2,
   "metadata": {},
   "outputs": [
    {
     "name": "stdout",
     "output_type": "stream",
     "text": [
      "/mnt/c/Users/IgnacioIbarra/Dropbox/workspace/theislab/mubind-pipeline/notebooks/pipeline\n"
     ]
    },
    {
     "name": "stderr",
     "output_type": "stream",
     "text": [
      "/home/ilibarra/.conda/envs/mubind/lib/python3.9/site-packages/IPython/core/magics/osm.py:393: UserWarning: using bookmarks requires you to install the `pickleshare` library.\n",
      "  bkms = self.shell.db.get('bookmarks', {})\n",
      "/home/ilibarra/.conda/envs/mubind/lib/python3.9/site-packages/IPython/core/magics/osm.py:417: UserWarning: using dhist requires you to install the `pickleshare` library.\n",
      "  self.shell.db['dhist'] = compress_dhist(dhist)[-100:]\n"
     ]
    }
   ],
   "source": [
    "cd ~/workspace/theislab/mubind-pipeline/notebooks/pipeline"
   ]
  },
  {
   "cell_type": "code",
   "execution_count": 3,
   "metadata": {},
   "outputs": [],
   "source": [
    "import mubind as mb\n",
    "import utils"
   ]
  },
  {
   "cell_type": "code",
   "execution_count": 4,
   "metadata": {},
   "outputs": [
    {
     "name": "stdout",
     "output_type": "stream",
     "text": [
      "organoids\n",
      "gbm\n",
      "noack_2022\n",
      "pancreatic_endocrinogenesis\n",
      "pbmc\n"
     ]
    }
   ],
   "source": [
    "path_by_dataset = utils.get_datasets()\n",
    "for k in path_by_dataset:\n",
    "    print(k)\n",
    "    if k != 'pancreatic_endocrinogenesis':\n",
    "        continue"
   ]
  },
  {
   "cell_type": "code",
   "execution_count": 5,
   "metadata": {},
   "outputs": [],
   "source": [
    "import torch\n",
    "path_by_dataset = utils.get_datasets()\n",
    "device = torch.device(\"cuda:0\" if torch.cuda.is_available() else \"cpu\")\n"
   ]
  },
  {
   "cell_type": "markdown",
   "metadata": {},
   "source": [
    "move to relevant directory to execute scbasset"
   ]
  },
  {
   "cell_type": "code",
   "execution_count": 6,
   "metadata": {},
   "outputs": [],
   "source": [
    "import scanpy as sc\n",
    "# only focus on the peaks defined by scBasset during training/testing\n",
    "import os\n",
    "import h5py\n",
    "import torch.optim as topti\n",
    "import warnings\n",
    "import torch.utils.data as tdata\n",
    "import glob\n",
    "import numpy as np"
   ]
  },
  {
   "cell_type": "code",
   "execution_count": 90,
   "metadata": {},
   "outputs": [],
   "source": [
    "# prepare mubind's input based on what scBasset sees when calling its main trainer\n",
    "def prepare_mubind_input(scbasset_ad_path,\n",
    "                         adata,\n",
    "                         k,\n",
    "                         scbasset_split_file):\n",
    "    species = 'hg38' if (k != 'noack_2022' and k != 'pancreatic_endocrinogenesis') else 'mm10'\n",
    "    gen_path = '/mnt/c/Users/IgnacioIbarra/Dropbox/annotations/%s/genome/%s.fa' % (species, species)\n",
    "\n",
    "    ad_scbasset = sc.read_h5ad(scbasset_ad_path)\n",
    "    list(map(os.path.exists, [scbasset_split_file, scbasset_ad_path]))\n",
    "\n",
    "    # csr matrices\n",
    "    with h5py.File(scbasset_split_file, 'r') as hf:\n",
    "        train_ids = hf['train_ids'][:]\n",
    "        val_ids = hf['val_ids'][:]\n",
    "        test_ids = hf['test_ids'][:]\n",
    "\n",
    "\n",
    "    # print(adata.var)\n",
    "\n",
    "    sep = '-' if k != 'gbm' else ':'\n",
    "    adata.var['chr'] = np.where(adata.var_names.str.contains(':'),\n",
    "                                adata.var_names.str.split(':').str[0],\n",
    "                                adata.var_names.str.split('-').str[0])\n",
    "    adata.var['chr'] = np.where(~adata.var['chr'].str.contains('chr'), 'chr', '') + adata.var['chr']\n",
    "\n",
    "    colon_found = adata.var_names.str.contains(':').any()\n",
    "    colon_found\n",
    "    if colon_found:\n",
    "        adata.var['start'] =   adata.var_names.str.split(':').str[1].str.split('-').str[0]\n",
    "        adata.var['end'] = adata.var_names.str.split(':').str[1].str.split('-').str[1]\n",
    "    else:\n",
    "        adata.var['start'] = adata.var_names.str.split('-').str[1]\n",
    "        adata.var['end'] = adata.var_names.str.split('-').str[2]\n",
    "        \n",
    "    # print(adata.var[['chr', 'start', 'end']])\n",
    "\n",
    "    adata.var['seq_length'] = adata.var['end'].astype(int) - adata.var['start'].astype(int) + 1\n",
    "    adata.var['k_summit'] = adata.var['chr'] + ':' + adata.var['start'] + '-' + adata.var['end']\n",
    "\n",
    "    adata_train = adata[:,ad_scbasset.var_names[train_ids]].copy()\n",
    "    adata_test = adata[:,ad_scbasset.var_names[test_ids]].copy()\n",
    "    adata.shape, adata_train.shape, adata_test.shape\n",
    "\n",
    "\n",
    "    n_seqs = None # None\n",
    "\n",
    "    print('preparing sequences train...')\n",
    "    seqs_train = mb.bindome.tl.get_sequences_from_bed(adata_train.var[['chr', 'start', 'end']].head(n_seqs),\n",
    "                                                    gen_path=gen_path,\n",
    "                                                    uppercase=True)\n",
    "                                                # gen_path='../../../annotations/dm6/genome/dm6.fa')\n",
    "    keys_train = set([s[0] for s in seqs_train])\n",
    "    adata_train = adata_train[:,adata_train.var['k_summit'].isin(keys_train)]\n",
    "\n",
    "\n",
    "    print('preparing sequences test...')\n",
    "    seqs_test = mb.bindome.tl.get_sequences_from_bed(adata_test.var[['chr', 'start', 'end']].head(n_seqs),\n",
    "                                                    gen_path=gen_path,\n",
    "                                                    uppercase=True)\n",
    "                                                # gen_path='../../../annotations/dm6/genome/dm6.fa')\n",
    "    keys_test = set([s[0] for s in seqs_test])\n",
    "    adata_test = adata_test[:,adata_test.var['k_summit'].isin(keys_test)]\n",
    "\n",
    "    print(adata_train.shape, adata_test.shape)\n",
    "\n",
    "    print('sum of reads', adata_train.X.sum())\n",
    "    assert adata_train.X.sum() > 0\n",
    "\n",
    "    df_train = utils.prepare_df(seqs_train, adata_train)\n",
    "    df_test = utils.prepare_df(seqs_test, adata_test)\n",
    "\n",
    "    df_train.shape, df_test.shape\n",
    "\n",
    "    dataset_train = mb.datasets.SelexDataset(df_train,\n",
    "                                            n_rounds=df_train.shape[1],\n",
    "                                            enr_series=False)\n",
    "    train = tdata.DataLoader(dataset=dataset_train,\n",
    "                            batch_size=512,\n",
    "                            shuffle=True)\n",
    "    dataset_test = mb.datasets.SelexDataset(df_train,\n",
    "                                            n_rounds=df_train.shape[1],\n",
    "                                            enr_series=False)\n",
    "    test = tdata.DataLoader(dataset=dataset_test,\n",
    "                            batch_size=512,\n",
    "                            shuffle=False)\n",
    "    \n",
    "    return adata_train, train, test"
   ]
  },
  {
   "cell_type": "code",
   "execution_count": 91,
   "metadata": {},
   "outputs": [
    {
     "name": "stdout",
     "output_type": "stream",
     "text": [
      "\n",
      "noack_2022 /mnt/f/workspace/theislab/mubind/data/noack_2022/random/merged_scATAC_integrated_cicero_faye_chong_obs1000_var3000.h5ad\n",
      "reading anndata /mnt/f/workspace/theislab/mubind/data/noack_2022/random/merged_scATAC_integrated_cicero_faye_chong_obs1000_var3000.h5ad\n",
      "noack_2022 (1000, 3000)\n",
      "/mnt/f/workspace/theislab/mubind/data/noack_2022/random/scbasset_input/obs1000/ad.h5ad\n",
      "True /mnt/f/workspace/theislab/mubind/data/noack_2022/random/mubind_output/obs1000/model_1.pt\n",
      "preparing sequences train...\n",
      "/tmp/tmpj89mv0wt\n",
      "genome hg19 False\n",
      "/mnt/c/Users/IgnacioIbarra/Dropbox/annotations/mm10/genome/mm10.fa\n",
      "True /mnt/c/Users/IgnacioIbarra/Dropbox/annotations/mm10/genome/mm10.fa\n",
      "running bedtools...\n",
      "['bedtools', 'getfasta', '-fi', '/mnt/c/Users/IgnacioIbarra/Dropbox/annotations/mm10/genome/mm10.fa', '-bed', '/tmp/tmpj89mv0wt', '-fo', '/tmp/tmpsqeokmcu']\n",
      "bedtools getfasta -fi /mnt/c/Users/IgnacioIbarra/Dropbox/annotations/mm10/genome/mm10.fa -bed /tmp/tmpj89mv0wt -fo /tmp/tmpsqeokmcu\n",
      "preparing sequences test...\n",
      "/tmp/tmpm6jd8uip\n",
      "genome hg19 False\n",
      "/mnt/c/Users/IgnacioIbarra/Dropbox/annotations/mm10/genome/mm10.fa\n",
      "True /mnt/c/Users/IgnacioIbarra/Dropbox/annotations/mm10/genome/mm10.fa\n",
      "running bedtools...\n",
      "['bedtools', 'getfasta', '-fi', '/mnt/c/Users/IgnacioIbarra/Dropbox/annotations/mm10/genome/mm10.fa', '-bed', '/tmp/tmpm6jd8uip', '-fo', '/tmp/tmp5lk1ijsy']\n",
      "bedtools getfasta -fi /mnt/c/Users/IgnacioIbarra/Dropbox/annotations/mm10/genome/mm10.fa -bed /tmp/tmpm6jd8uip -fo /tmp/tmp5lk1ijsy\n",
      "(1000, 2701) (1000, 150)\n",
      "sum of reads 196025.0\n",
      "(2701, 1001)\n",
      "# cells 1000\n",
      "# peaks 2701\n",
      "selected (2695, 1000)\n",
      "(150, 1001)\n",
      "# cells 1000\n",
      "# peaks 150\n",
      "selected (150, 1000)\n",
      "[50, 25, 25, 25, 25, 25, 25]\n",
      "noack_2022 /mnt/f/workspace/theislab/mubind/data/noack_2022/random/mubind_output/obs1000/model_0.pt\n",
      "\n",
      "optimize log dynamics False\n",
      "True\n",
      "12\n",
      "order None\n",
      "0 out of 7...\n"
     ]
    },
    {
     "data": {
      "image/png": "[encoded data removed]",
      "text/plain": [
       "<Figure size 1350x270 with 6 Axes>"
      ]
     },
     "metadata": {},
     "output_type": "display_data"
    },
    {
     "name": "stdout",
     "output_type": "stream",
     "text": [
      "current kernels\n",
      "\\Filter to optimize 0 (intercept)\n",
      "\n",
      "FREEZING KERNELS\n",
      "optimizing feature type mono\n",
      "setting grad status of kernel (mono, dinuc) at 0 to (1, 0)\n",
      "filters mask None\n",
      "optimizer:  Adam , criterion: PoissonLoss \n",
      "# epochs: 50 \n",
      "early_stopping: 250\n",
      "lr= 0.01, weight_decay= 0, dir weight= 0\n"
     ]
    },
    {
     "name": "stderr",
     "output_type": "stream",
     "text": [
      "100%|████████████████████████████████████████████████████████████████████████████████████████████████████████████████████████████████████████████████████████████████████████████████████████████████| 50/50 [00:05<00:00,  9.28it/s]\n"
     ]
    },
    {
     "name": "stdout",
     "output_type": "stream",
     "text": [
      "Current time: 2024-05-13 12:41:39.076752\n",
      "\tLoss: 4.5607631207 , R2: 0.19\n",
      "\tTraining time (model/function): (5.444s / 5.444s)\n",
      "\t\tper epoch (model/function): (0.111s/ 0.111s)\n",
      "\t\tper 1k samples: 0.041s\n",
      "optimization of dinuc is not necessary for the intercepts (filter=0). Skip...\n",
      "current kernels\n",
      "\\Filter to optimize 1 \n",
      "\n",
      "FREEZING KERNELS\n",
      "optimizing feature type mono\n",
      "setting grad status of kernel (mono, dinuc) at 1 to (1, 0)\n",
      "filters mask None\n",
      "optimizer:  Adam , criterion: PoissonLoss \n",
      "# epochs: 25 \n",
      "early_stopping: 250\n",
      "lr= 0.01, weight_decay= 0, dir weight= 0\n"
     ]
    },
    {
     "name": "stderr",
     "output_type": "stream",
     "text": [
      "100%|████████████████████████████████████████████████████████████████████████████████████████████████████████████████████████████████████████████████████████████████████████████████████████████████| 25/25 [00:09<00:00,  2.55it/s]\n"
     ]
    },
    {
     "name": "stdout",
     "output_type": "stream",
     "text": [
      "Current time: 2024-05-13 12:41:49.758622\n",
      "\tLoss: 4.2918597857 , R2: 0.19\n",
      "\tTraining time (model/function): (15.273s / 9.829s)\n",
      "\t\tper epoch (model/function): (0.636s/ 0.410s)\n",
      "\t\tper 1k samples: 0.152s\n",
      "\n",
      "\n",
      "final refinement step (after shift)...\n",
      "\n",
      "unfreezing all layers for final refinement\n",
      "optimizer:  Adam , criterion: PoissonLoss \n",
      "# epochs: 25 \n",
      "early_stopping: 250\n",
      "lr= 0.01, weight_decay= 0, dir weight= 0\n"
     ]
    },
    {
     "name": "stderr",
     "output_type": "stream",
     "text": [
      "100%|████████████████████████████████████████████████████████████████████████████████████████████████████████████████████████████████████████████████████████████████████████████████████████████████| 25/25 [00:08<00:00,  3.12it/s]\n"
     ]
    },
    {
     "name": "stdout",
     "output_type": "stream",
     "text": [
      "Current time: 2024-05-13 12:41:58.730149\n",
      "\tLoss: 4.1837822596 , R2: 0.19\n",
      "\tTraining time (model/function): (23.338s / 8.065s)\n",
      "\t\tper epoch (model/function): (0.972s/ 0.336s)\n",
      "\t\tper 1k samples: 0.125s\n",
      "best loss 4.183683633804321\n",
      "current r2 values by newly added filter\n",
      "[0.18913220793064056]\n",
      "optimizing feature type dinuc\n",
      "the optimization of dinucleotide features is skipped...\n",
      "current kernels\n",
      "\\Filter to optimize 2 \n",
      "\n",
      "FREEZING KERNELS\n",
      "optimizing feature type mono\n",
      "setting grad status of kernel (mono, dinuc) at 2 to (1, 0)\n",
      "filters mask None\n",
      "optimizer:  Adam , criterion: PoissonLoss \n",
      "# epochs: 25 \n",
      "early_stopping: 250\n",
      "lr= 0.01, weight_decay= 0, dir weight= 0\n"
     ]
    },
    {
     "name": "stderr",
     "output_type": "stream",
     "text": [
      "100%|████████████████████████████████████████████████████████████████████████████████████████████████████████████████████████████████████████████████████████████████████████████████████████████████| 25/25 [00:09<00:00,  2.64it/s]\n"
     ]
    },
    {
     "name": "stdout",
     "output_type": "stream",
     "text": [
      "Current time: 2024-05-13 12:42:10.520964\n",
      "\tLoss: 4.1866811117 , R2: 0.19\n",
      "\tTraining time (model/function): (32.846s / 9.508s)\n",
      "\t\tper epoch (model/function): (1.369s/ 0.396s)\n",
      "\t\tper 1k samples: 0.147s\n",
      "\n",
      "\n",
      "final refinement step (after shift)...\n",
      "\n",
      "unfreezing all layers for final refinement\n",
      "optimizer:  Adam , criterion: PoissonLoss \n",
      "# epochs: 25 \n",
      "early_stopping: 250\n",
      "lr= 0.01, weight_decay= 0, dir weight= 0\n"
     ]
    },
    {
     "name": "stderr",
     "output_type": "stream",
     "text": [
      "100%|████████████████████████████████████████████████████████████████████████████████████████████████████████████████████████████████████████████████████████████████████████████████████████████████| 25/25 [00:09<00:00,  2.67it/s]\n"
     ]
    },
    {
     "name": "stdout",
     "output_type": "stream",
     "text": [
      "Current time: 2024-05-13 12:42:21.095931\n",
      "\tLoss: 4.1508512497 , R2: 0.19\n",
      "\tTraining time (model/function): (42.270s / 9.424s)\n",
      "\t\tper epoch (model/function): (1.761s/ 0.393s)\n",
      "\t\tper 1k samples: 0.146s\n",
      "best loss 4.148985703786214\n",
      "current r2 values by newly added filter\n",
      "[0.18913220793064056, 0.19037535590976118]\n",
      "optimizing feature type dinuc\n",
      "the optimization of dinucleotide features is skipped...\n",
      "current kernels\n",
      "\\Filter to optimize 3 \n",
      "\n",
      "FREEZING KERNELS\n",
      "optimizing feature type mono\n",
      "setting grad status of kernel (mono, dinuc) at 3 to (1, 0)\n",
      "filters mask None\n",
      "optimizer:  Adam , criterion: PoissonLoss \n",
      "# epochs: 25 \n",
      "early_stopping: 250\n",
      "lr= 0.01, weight_decay= 0, dir weight= 0\n"
     ]
    },
    {
     "name": "stderr",
     "output_type": "stream",
     "text": [
      "100%|████████████████████████████████████████████████████████████████████████████████████████████████████████████████████████████████████████████████████████████████████████████████████████████████| 25/25 [00:09<00:00,  2.55it/s]\n"
     ]
    },
    {
     "name": "stdout",
     "output_type": "stream",
     "text": [
      "Current time: 2024-05-13 12:42:33.089541\n",
      "\tLoss: 4.1753902435 , R2: 0.19\n",
      "\tTraining time (model/function): (52.120s / 9.850s)\n",
      "\t\tper epoch (model/function): (2.172s/ 0.410s)\n",
      "\t\tper 1k samples: 0.152s\n",
      "\n",
      "\n",
      "final refinement step (after shift)...\n",
      "\n",
      "unfreezing all layers for final refinement\n",
      "optimizer:  Adam , criterion: PoissonLoss \n",
      "# epochs: 25 \n",
      "early_stopping: 250\n",
      "lr= 0.01, weight_decay= 0, dir weight= 0\n"
     ]
    },
    {
     "name": "stderr",
     "output_type": "stream",
     "text": [
      "100%|████████████████████████████████████████████████████████████████████████████████████████████████████████████████████████████████████████████████████████████████████████████████████████████████| 25/25 [00:09<00:00,  2.59it/s]\n"
     ]
    },
    {
     "name": "stdout",
     "output_type": "stream",
     "text": [
      "Current time: 2024-05-13 12:42:43.715355\n",
      "\tLoss: 4.1467661063 , R2: 0.19\n",
      "\tTraining time (model/function): (61.833s / 9.712s)\n",
      "\t\tper epoch (model/function): (2.576s/ 0.405s)\n",
      "\t\tper 1k samples: 0.150s\n",
      "best loss 4.142818133036296\n",
      "current r2 values by newly added filter\n",
      "[0.18913220793064056, 0.19037535590976118, 0.19091829807833594]\n",
      "optimizing feature type dinuc\n",
      "the optimization of dinucleotide features is skipped...\n",
      "current kernels\n",
      "\\Filter to optimize 4 \n",
      "\n",
      "FREEZING KERNELS\n",
      "optimizing feature type mono\n",
      "setting grad status of kernel (mono, dinuc) at 4 to (1, 0)\n",
      "filters mask None\n",
      "optimizer:  Adam , criterion: PoissonLoss \n",
      "# epochs: 25 \n",
      "early_stopping: 250\n",
      "lr= 0.01, weight_decay= 0, dir weight= 0\n"
     ]
    },
    {
     "name": "stderr",
     "output_type": "stream",
     "text": [
      "100%|████████████████████████████████████████████████████████████████████████████████████████████████████████████████████████████████████████████████████████████████████████████████████████████████| 25/25 [00:08<00:00,  2.78it/s]\n"
     ]
    },
    {
     "name": "stdout",
     "output_type": "stream",
     "text": [
      "Current time: 2024-05-13 12:42:54.562885\n",
      "\tLoss: 4.1722535292 , R2: 0.19\n",
      "\tTraining time (model/function): (70.861s / 9.028s)\n",
      "\t\tper epoch (model/function): (2.953s/ 0.376s)\n",
      "\t\tper 1k samples: 0.140s\n",
      "\n",
      "\n",
      "final refinement step (after shift)...\n",
      "\n",
      "unfreezing all layers for final refinement\n",
      "optimizer:  Adam , criterion: PoissonLoss \n",
      "# epochs: 25 \n",
      "early_stopping: 250\n",
      "lr= 0.01, weight_decay= 0, dir weight= 0\n"
     ]
    },
    {
     "name": "stderr",
     "output_type": "stream",
     "text": [
      "100%|████████████████████████████████████████████████████████████████████████████████████████████████████████████████████████████████████████████████████████████████████████████████████████████████| 25/25 [00:09<00:00,  2.71it/s]\n"
     ]
    },
    {
     "name": "stdout",
     "output_type": "stream",
     "text": [
      "Current time: 2024-05-13 12:43:04.789260\n",
      "\tLoss: 4.1477465630 , R2: 0.19\n",
      "\tTraining time (model/function): (80.146s / 9.286s)\n",
      "\t\tper epoch (model/function): (3.339s/ 0.387s)\n",
      "\t\tper 1k samples: 0.144s\n",
      "best loss 4.143146514892578\n",
      "current r2 values by newly added filter\n",
      "[0.18913220793064056, 0.19037535590976118, 0.19091829807833594, 0.19151259628905248]\n",
      "optimizing feature type dinuc\n",
      "the optimization of dinucleotide features is skipped...\n",
      "\n",
      "optimization finished:\n",
      "total time: 80.14648222923279s\n",
      "Time per epoch (total): 0.401 s\n",
      "True /mnt/f/workspace/theislab/mubind/data/noack_2022/random/mubind_output/obs1000/running_time.pkl\n",
      "noack_2022 /mnt/f/workspace/theislab/mubind/data/noack_2022/random/mubind_output/obs1000/model_1.pt\n",
      "\n",
      "optimize log dynamics True\n",
      "setting up log dynamic\n",
      "True\n",
      "12\n",
      "order None\n",
      "0 out of 7...\n"
     ]
    },
    {
     "data": {
      "image/png": "[encoded data removed]",
      "text/plain": [
       "<Figure size 1350x270 with 6 Axes>"
      ]
     },
     "metadata": {},
     "output_type": "display_data"
    },
    {
     "name": "stdout",
     "output_type": "stream",
     "text": [
      "current kernels\n",
      "\\Filter to optimize 0 (intercept)\n",
      "\n",
      "FREEZING KERNELS\n",
      "optimizing feature type mono\n",
      "setting grad status of kernel (mono, dinuc) at 0 to (1, 0)\n",
      "filters mask None\n",
      "optimizer:  Adam , criterion: PoissonLoss \n",
      "# epochs: 50 \n",
      "early_stopping: 250\n",
      "lr= 0.01, weight_decay= 0, dir weight= 0\n"
     ]
    },
    {
     "name": "stderr",
     "output_type": "stream",
     "text": [
      "100%|████████████████████████████████████████████████████████████████████████████████████████████████████████████████████████████████████████████████████████████████████████████████████████████████| 50/50 [09:11<00:00, 11.02s/it]\n"
     ]
    },
    {
     "name": "stdout",
     "output_type": "stream",
     "text": [
      "Current time: 2024-05-13 12:52:40.286959\n",
      "\tLoss: 4.5589572589 , R2: 0.19\n",
      "\tTraining time (model/function): (551.201s / 551.201s)\n",
      "\t\tper epoch (model/function): (11.249s/ 11.249s)\n",
      "\t\tper 1k samples: 4.174s\n",
      "optimization of dinuc is not necessary for the intercepts (filter=0). Skip...\n",
      "current kernels\n",
      "\\Filter to optimize 1 \n",
      "\n",
      "FREEZING KERNELS\n",
      "optimizing feature type mono\n",
      "setting grad status of kernel (mono, dinuc) at 1 to (1, 0)\n",
      "filters mask None\n",
      "optimizer:  Adam , criterion: PoissonLoss \n",
      "# epochs: 25 \n",
      "early_stopping: 250\n",
      "lr= 0.01, weight_decay= 0, dir weight= 0\n"
     ]
    },
    {
     "name": "stderr",
     "output_type": "stream",
     "text": [
      "100%|████████████████████████████████████████████████████████████████████████████████████████████████████████████████████████████████████████████████████████████████████████████████████████████████| 25/25 [07:15<00:00, 17.40s/it]\n"
     ]
    },
    {
     "name": "stdout",
     "output_type": "stream",
     "text": [
      "Current time: 2024-05-13 12:59:57.259012\n",
      "\tLoss: 4.2893736362 , R2: 0.19\n",
      "\tTraining time (model/function): (986.298s / 435.097s)\n",
      "\t\tper epoch (model/function): (41.096s/ 18.129s)\n",
      "\t\tper 1k samples: 6.727s\n",
      "\n",
      "\n",
      "final refinement step (after shift)...\n",
      "\n",
      "unfreezing all layers for final refinement\n",
      "optimizer:  Adam , criterion: PoissonLoss \n",
      "# epochs: 25 \n",
      "early_stopping: 250\n",
      "lr= 0.01, weight_decay= 0, dir weight= 0\n"
     ]
    },
    {
     "name": "stderr",
     "output_type": "stream",
     "text": [
      "100%|████████████████████████████████████████████████████████████████████████████████████████████████████████████████████████████████████████████████████████████████████████████████████████████████| 25/25 [08:45<00:00, 21.01s/it]\n"
     ]
    },
    {
     "name": "stdout",
     "output_type": "stream",
     "text": [
      "Current time: 2024-05-13 13:08:43.673805\n",
      "\tLoss: 4.1893884341 , R2: 0.19\n",
      "\tTraining time (model/function): (1511.612s / 525.314s)\n",
      "\t\tper epoch (model/function): (62.984s/ 21.888s)\n",
      "\t\tper 1k samples: 8.122s\n",
      "best loss 4.186452388763428\n",
      "current r2 values by newly added filter\n",
      "[0.18912125365271193]\n",
      "optimizing feature type dinuc\n",
      "the optimization of dinucleotide features is skipped...\n",
      "current kernels\n",
      "\\Filter to optimize 2 \n",
      "\n",
      "FREEZING KERNELS\n",
      "optimizing feature type mono\n",
      "setting grad status of kernel (mono, dinuc) at 2 to (1, 0)\n",
      "filters mask None\n",
      "optimizer:  Adam , criterion: PoissonLoss \n",
      "# epochs: 25 \n",
      "early_stopping: 250\n",
      "lr= 0.01, weight_decay= 0, dir weight= 0\n"
     ]
    },
    {
     "name": "stderr",
     "output_type": "stream",
     "text": [
      "100%|████████████████████████████████████████████████████████████████████████████████████████████████████████████████████████████████████████████████████████████████████████████████████████████████| 25/25 [03:25<00:00,  8.20s/it]\n"
     ]
    },
    {
     "name": "stdout",
     "output_type": "stream",
     "text": [
      "Current time: 2024-05-13 13:12:11.438454\n",
      "\tLoss: 4.1810699304 , R2: 0.19\n",
      "\tTraining time (model/function): (1716.791s / 205.179s)\n",
      "\t\tper epoch (model/function): (71.533s/ 8.549s)\n",
      "\t\tper 1k samples: 3.172s\n",
      "\n",
      "\n",
      "final refinement step (after shift)...\n",
      "\n",
      "unfreezing all layers for final refinement\n",
      "optimizer:  Adam , criterion: PoissonLoss \n",
      "# epochs: 25 \n",
      "early_stopping: 250\n",
      "lr= 0.01, weight_decay= 0, dir weight= 0\n"
     ]
    },
    {
     "name": "stderr",
     "output_type": "stream",
     "text": [
      "100%|████████████████████████████████████████████████████████████████████████████████████████████████████████████████████████████████████████████████████████████████████████████████████████████████| 25/25 [03:30<00:00,  8.44s/it]\n"
     ]
    },
    {
     "name": "stdout",
     "output_type": "stream",
     "text": [
      "Current time: 2024-05-13 13:15:43.619196\n",
      "\tLoss: 4.1487789949 , R2: 0.19\n",
      "\tTraining time (model/function): (1927.769s / 210.978s)\n",
      "\t\tper epoch (model/function): (80.324s/ 8.791s)\n",
      "\t\tper 1k samples: 3.262s\n",
      "best loss 4.148562749226888\n",
      "current r2 values by newly added filter\n",
      "[0.18912125365271193, 0.1891173473922334]\n",
      "optimizing feature type dinuc\n",
      "the optimization of dinucleotide features is skipped...\n",
      "current kernels\n",
      "\\Filter to optimize 3 \n",
      "\n",
      "FREEZING KERNELS\n",
      "optimizing feature type mono\n",
      "setting grad status of kernel (mono, dinuc) at 3 to (1, 0)\n",
      "filters mask None\n",
      "optimizer:  Adam , criterion: PoissonLoss \n",
      "# epochs: 25 \n",
      "early_stopping: 250\n",
      "lr= 0.01, weight_decay= 0, dir weight= 0\n"
     ]
    },
    {
     "name": "stderr",
     "output_type": "stream",
     "text": [
      "100%|████████████████████████████████████████████████████████████████████████████████████████████████████████████████████████████████████████████████████████████████████████████████████████████████| 25/25 [03:41<00:00,  8.85s/it]\n"
     ]
    },
    {
     "name": "stdout",
     "output_type": "stream",
     "text": [
      "Current time: 2024-05-13 13:19:26.831926\n",
      "\tLoss: 4.1700116793 , R2: 0.19\n",
      "\tTraining time (model/function): (2148.987s / 221.217s)\n",
      "\t\tper epoch (model/function): (89.541s/ 9.217s)\n",
      "\t\tper 1k samples: 3.420s\n",
      "\n",
      "\n",
      "final refinement step (after shift)...\n",
      "\n",
      "unfreezing all layers for final refinement\n",
      "optimizer:  Adam , criterion: PoissonLoss \n",
      "# epochs: 25 \n",
      "early_stopping: 250\n",
      "lr= 0.01, weight_decay= 0, dir weight= 0\n"
     ]
    },
    {
     "name": "stderr",
     "output_type": "stream",
     "text": [
      "100%|████████████████████████████████████████████████████████████████████████████████████████████████████████████████████████████████████████████████████████████████████████████████████████████████| 25/25 [05:50<00:00, 14.02s/it]\n"
     ]
    },
    {
     "name": "stdout",
     "output_type": "stream",
     "text": [
      "Current time: 2024-05-13 13:25:18.691889\n",
      "\tLoss: 4.1494696935 , R2: 0.19\n",
      "\tTraining time (model/function): (2499.511s / 350.524s)\n",
      "\t\tper epoch (model/function): (104.146s/ 14.605s)\n",
      "\t\tper 1k samples: 5.419s\n",
      "best loss 4.144874731699626\n",
      "current r2 values by newly added filter\n",
      "[0.18912125365271193, 0.1891173473922334, 0.18906022617753349]\n",
      "optimizing feature type dinuc\n",
      "the optimization of dinucleotide features is skipped...\n",
      "current kernels\n",
      "\\Filter to optimize 4 \n",
      "\n",
      "FREEZING KERNELS\n",
      "optimizing feature type mono\n",
      "setting grad status of kernel (mono, dinuc) at 4 to (1, 0)\n",
      "filters mask None\n",
      "optimizer:  Adam , criterion: PoissonLoss \n",
      "# epochs: 25 \n",
      "early_stopping: 250\n",
      "lr= 0.01, weight_decay= 0, dir weight= 0\n"
     ]
    },
    {
     "name": "stderr",
     "output_type": "stream",
     "text": [
      "100%|████████████████████████████████████████████████████████████████████████████████████████████████████████████████████████████████████████████████████████████████████████████████████████████████| 25/25 [05:31<00:00, 13.25s/it]\n"
     ]
    },
    {
     "name": "stdout",
     "output_type": "stream",
     "text": [
      "Current time: 2024-05-13 13:30:52.823166\n",
      "\tLoss: 4.1652978261 , R2: 0.19\n",
      "\tTraining time (model/function): (2830.834s / 331.323s)\n",
      "\t\tper epoch (model/function): (117.951s/ 13.805s)\n",
      "\t\tper 1k samples: 5.122s\n",
      "\n",
      "\n",
      "final refinement step (after shift)...\n",
      "\n",
      "unfreezing all layers for final refinement\n",
      "optimizer:  Adam , criterion: PoissonLoss \n",
      "# epochs: 25 \n",
      "early_stopping: 250\n",
      "lr= 0.01, weight_decay= 0, dir weight= 0\n"
     ]
    },
    {
     "name": "stderr",
     "output_type": "stream",
     "text": [
      "100%|████████████████████████████████████████████████████████████████████████████████████████████████████████████████████████████████████████████████████████████████████████████████████████████████| 25/25 [06:36<00:00, 15.87s/it]\n"
     ]
    },
    {
     "name": "stdout",
     "output_type": "stream",
     "text": [
      "Current time: 2024-05-13 13:37:37.834125\n",
      "\tLoss: 4.1456394990 , R2: 0.19\n",
      "\tTraining time (model/function): (3227.659s / 396.825s)\n",
      "\t\tper epoch (model/function): (134.486s/ 16.534s)\n",
      "\t\tper 1k samples: 6.135s\n",
      "best loss 4.145170291264852\n",
      "current r2 values by newly added filter\n",
      "[0.18912125365271193, 0.1891173473922334, 0.18906022617753349, 0.18911158920392424]\n",
      "optimizing feature type dinuc\n",
      "the optimization of dinucleotide features is skipped...\n",
      "\n",
      "optimization finished:\n",
      "total time: 3227.6589615345s\n",
      "Time per epoch (total): 16.138 s\n",
      "True /mnt/f/workspace/theislab/mubind/data/noack_2022/random/mubind_output/obs1000/running_time.pkl\n",
      "\n",
      "pancreatic_endocrinogenesis /mnt/f/workspace/theislab/mubind/data/pancreatic_endocrinogenesis/random/pancreas_multiome_2022_processed_atac_obs1000_var3000.h5ad\n",
      "reading anndata /mnt/f/workspace/theislab/mubind/data/pancreatic_endocrinogenesis/random/pancreas_multiome_2022_processed_atac_obs1000_var3000.h5ad\n",
      "pancreatic_endocrinogenesis (1000, 3000)\n",
      "/mnt/f/workspace/theislab/mubind/data/pancreatic_endocrinogenesis/random/scbasset_input/obs1000/ad.h5ad\n",
      "True /mnt/f/workspace/theislab/mubind/data/pancreatic_endocrinogenesis/random/mubind_output/obs1000/model_1.pt\n",
      "preparing sequences train...\n",
      "/tmp/tmpd3pi_rg2\n",
      "genome hg19 False\n",
      "/mnt/c/Users/IgnacioIbarra/Dropbox/annotations/mm10/genome/mm10.fa\n",
      "True /mnt/c/Users/IgnacioIbarra/Dropbox/annotations/mm10/genome/mm10.fa\n",
      "running bedtools...\n",
      "['bedtools', 'getfasta', '-fi', '/mnt/c/Users/IgnacioIbarra/Dropbox/annotations/mm10/genome/mm10.fa', '-bed', '/tmp/tmpd3pi_rg2', '-fo', '/tmp/tmplsc9j93g']\n",
      "bedtools getfasta -fi /mnt/c/Users/IgnacioIbarra/Dropbox/annotations/mm10/genome/mm10.fa -bed /tmp/tmpd3pi_rg2 -fo /tmp/tmplsc9j93g\n",
      "preparing sequences test...\n",
      "/tmp/tmp5f7qzrfs\n",
      "genome hg19 False\n",
      "/mnt/c/Users/IgnacioIbarra/Dropbox/annotations/mm10/genome/mm10.fa\n",
      "True /mnt/c/Users/IgnacioIbarra/Dropbox/annotations/mm10/genome/mm10.fa\n",
      "running bedtools...\n",
      "['bedtools', 'getfasta', '-fi', '/mnt/c/Users/IgnacioIbarra/Dropbox/annotations/mm10/genome/mm10.fa', '-bed', '/tmp/tmp5f7qzrfs', '-fo', '/tmp/tmpw10zpszk']\n",
      "bedtools getfasta -fi /mnt/c/Users/IgnacioIbarra/Dropbox/annotations/mm10/genome/mm10.fa -bed /tmp/tmp5f7qzrfs -fo /tmp/tmpw10zpszk\n",
      "(1000, 2701) (1000, 150)\n",
      "sum of reads 200094.0\n",
      "(2701, 1001)\n",
      "# cells 1000\n",
      "# peaks 2701\n",
      "selected (2701, 1000)\n",
      "(150, 1001)\n",
      "# cells 1000\n",
      "# peaks 150\n",
      "selected (150, 1000)\n",
      "[50, 25, 25, 25, 25, 25, 25]\n",
      "pancreatic_endocrinogenesis /mnt/f/workspace/theislab/mubind/data/pancreatic_endocrinogenesis/random/mubind_output/obs1000/model_0.pt\n",
      "\n",
      "optimize log dynamics False\n",
      "True\n",
      "12\n",
      "order None\n",
      "0 out of 7...\n"
     ]
    },
    {
     "data": {
      "image/png": "[encoded data removed]",
      "text/plain": [
       "<Figure size 1350x270 with 6 Axes>"
      ]
     },
     "metadata": {},
     "output_type": "display_data"
    },
    {
     "name": "stdout",
     "output_type": "stream",
     "text": [
      "current kernels\n",
      "\\Filter to optimize 0 (intercept)\n",
      "\n",
      "FREEZING KERNELS\n",
      "optimizing feature type mono\n",
      "setting grad status of kernel (mono, dinuc) at 0 to (1, 0)\n",
      "filters mask None\n",
      "optimizer:  Adam , criterion: PoissonLoss \n",
      "# epochs: 50 \n",
      "early_stopping: 250\n",
      "lr= 0.01, weight_decay= 0, dir weight= 0\n"
     ]
    },
    {
     "name": "stderr",
     "output_type": "stream",
     "text": [
      "100%|████████████████████████████████████████████████████████████████████████████████████████████████████████████████████████████████████████████████████████████████████████████████████████████████| 50/50 [02:50<00:00,  3.41s/it]\n"
     ]
    },
    {
     "name": "stdout",
     "output_type": "stream",
     "text": [
      "Current time: 2024-05-13 13:41:13.348744\n",
      "\tLoss: 4.5330940088 , R2: 0.29\n",
      "\tTraining time (model/function): (170.565s / 170.565s)\n",
      "\t\tper epoch (model/function): (3.481s/ 3.481s)\n",
      "\t\tper 1k samples: 1.289s\n",
      "optimization of dinuc is not necessary for the intercepts (filter=0). Skip...\n",
      "current kernels\n",
      "\\Filter to optimize 1 \n",
      "\n",
      "FREEZING KERNELS\n",
      "optimizing feature type mono\n",
      "setting grad status of kernel (mono, dinuc) at 1 to (1, 0)\n",
      "filters mask None\n",
      "optimizer:  Adam , criterion: PoissonLoss \n",
      "# epochs: 25 \n",
      "early_stopping: 250\n",
      "lr= 0.01, weight_decay= 0, dir weight= 0\n"
     ]
    },
    {
     "name": "stderr",
     "output_type": "stream",
     "text": [
      "100%|████████████████████████████████████████████████████████████████████████████████████████████████████████████████████████████████████████████████████████████████████████████████████████████████| 25/25 [02:13<00:00,  5.33s/it]\n"
     ]
    },
    {
     "name": "stdout",
     "output_type": "stream",
     "text": [
      "Current time: 2024-05-13 13:43:28.613810\n",
      "\tLoss: 4.2669040362 , R2: 0.29\n",
      "\tTraining time (model/function): (303.954s / 133.389s)\n",
      "\t\tper epoch (model/function): (12.665s/ 5.558s)\n",
      "\t\tper 1k samples: 2.058s\n",
      "\n",
      "\n",
      "final refinement step (after shift)...\n",
      "\n",
      "unfreezing all layers for final refinement\n",
      "optimizer:  Adam , criterion: PoissonLoss \n",
      "# epochs: 25 \n",
      "early_stopping: 250\n",
      "lr= 0.01, weight_decay= 0, dir weight= 0\n"
     ]
    },
    {
     "name": "stderr",
     "output_type": "stream",
     "text": [
      "100%|████████████████████████████████████████████████████████████████████████████████████████████████████████████████████████████████████████████████████████████████████████████████████████████████| 25/25 [00:56<00:00,  2.27s/it]\n"
     ]
    },
    {
     "name": "stdout",
     "output_type": "stream",
     "text": [
      "Current time: 2024-05-13 13:44:27.300435\n",
      "\tLoss: 4.1603643894 , R2: 0.29\n",
      "\tTraining time (model/function): (360.671s / 56.717s)\n",
      "\t\tper epoch (model/function): (15.028s/ 2.363s)\n",
      "\t\tper 1k samples: 0.875s\n",
      "best loss 4.160364389419556\n",
      "current r2 values by newly added filter\n",
      "[0.2870981457402342]\n",
      "optimizing feature type dinuc\n",
      "the optimization of dinucleotide features is skipped...\n",
      "current kernels\n",
      "\\Filter to optimize 2 \n",
      "\n",
      "FREEZING KERNELS\n",
      "optimizing feature type mono\n",
      "setting grad status of kernel (mono, dinuc) at 2 to (1, 0)\n",
      "filters mask None\n",
      "optimizer:  Adam , criterion: PoissonLoss \n",
      "# epochs: 25 \n",
      "early_stopping: 250\n",
      "lr= 0.01, weight_decay= 0, dir weight= 0\n"
     ]
    },
    {
     "name": "stderr",
     "output_type": "stream",
     "text": [
      "100%|████████████████████████████████████████████████████████████████████████████████████████████████████████████████████████████████████████████████████████████████████████████████████████████████| 25/25 [01:04<00:00,  2.57s/it]\n"
     ]
    },
    {
     "name": "stdout",
     "output_type": "stream",
     "text": [
      "Current time: 2024-05-13 13:45:34.940932\n",
      "\tLoss: 4.1594498158 , R2: 0.29\n",
      "\tTraining time (model/function): (424.932s / 64.261s)\n",
      "\t\tper epoch (model/function): (17.705s/ 2.678s)\n",
      "\t\tper 1k samples: 0.991s\n",
      "\n",
      "\n",
      "final refinement step (after shift)...\n",
      "\n",
      "unfreezing all layers for final refinement\n",
      "optimizer:  Adam , criterion: PoissonLoss \n",
      "# epochs: 25 \n",
      "early_stopping: 250\n",
      "lr= 0.01, weight_decay= 0, dir weight= 0\n"
     ]
    },
    {
     "name": "stderr",
     "output_type": "stream",
     "text": [
      "100%|████████████████████████████████████████████████████████████████████████████████████████████████████████████████████████████████████████████████████████████████████████████████████████████████| 25/25 [01:19<00:00,  3.19s/it]\n"
     ]
    },
    {
     "name": "stdout",
     "output_type": "stream",
     "text": [
      "Current time: 2024-05-13 13:46:57.280854\n",
      "\tLoss: 4.1285479069 , R2: 0.29\n",
      "\tTraining time (model/function): (504.660s / 79.728s)\n",
      "\t\tper epoch (model/function): (21.027s/ 3.322s)\n",
      "\t\tper 1k samples: 1.230s\n",
      "best loss 4.12415877978007\n",
      "current r2 values by newly added filter\n",
      "[0.2870981457402342, 0.2873158928148126]\n",
      "optimizing feature type dinuc\n",
      "the optimization of dinucleotide features is skipped...\n",
      "current kernels\n",
      "\\Filter to optimize 3 \n",
      "\n",
      "FREEZING KERNELS\n",
      "optimizing feature type mono\n",
      "setting grad status of kernel (mono, dinuc) at 3 to (1, 0)\n",
      "filters mask None\n",
      "optimizer:  Adam , criterion: PoissonLoss \n",
      "# epochs: 25 \n",
      "early_stopping: 250\n",
      "lr= 0.01, weight_decay= 0, dir weight= 0\n"
     ]
    },
    {
     "name": "stderr",
     "output_type": "stream",
     "text": [
      "100%|████████████████████████████████████████████████████████████████████████████████████████████████████████████████████████████████████████████████████████████████████████████████████████████████| 25/25 [01:38<00:00,  3.92s/it]\n"
     ]
    },
    {
     "name": "stdout",
     "output_type": "stream",
     "text": [
      "Current time: 2024-05-13 13:48:38.708834\n",
      "\tLoss: 4.1561324596 , R2: 0.29\n",
      "\tTraining time (model/function): (602.822s / 98.162s)\n",
      "\t\tper epoch (model/function): (25.118s/ 4.090s)\n",
      "\t\tper 1k samples: 1.514s\n",
      "\n",
      "\n",
      "final refinement step (after shift)...\n",
      "\n",
      "unfreezing all layers for final refinement\n",
      "optimizer:  Adam , criterion: PoissonLoss \n",
      "# epochs: 25 \n",
      "early_stopping: 250\n",
      "lr= 0.01, weight_decay= 0, dir weight= 0\n"
     ]
    },
    {
     "name": "stderr",
     "output_type": "stream",
     "text": [
      "100%|████████████████████████████████████████████████████████████████████████████████████████████████████████████████████████████████████████████████████████████████████████████████████████████████| 25/25 [01:25<00:00,  3.44s/it]\n"
     ]
    },
    {
     "name": "stdout",
     "output_type": "stream",
     "text": [
      "Current time: 2024-05-13 13:50:06.568128\n",
      "\tLoss: 4.1211038431 , R2: 0.29\n",
      "\tTraining time (model/function): (688.784s / 85.961s)\n",
      "\t\tper epoch (model/function): (28.699s/ 3.582s)\n",
      "\t\tper 1k samples: 1.326s\n",
      "best loss 4.117915789286296\n",
      "current r2 values by newly added filter\n",
      "[0.2870981457402342, 0.2873158928148126, 0.28732063953111564]\n",
      "optimizing feature type dinuc\n",
      "the optimization of dinucleotide features is skipped...\n",
      "current kernels\n",
      "\\Filter to optimize 4 \n",
      "\n",
      "FREEZING KERNELS\n",
      "optimizing feature type mono\n",
      "setting grad status of kernel (mono, dinuc) at 4 to (1, 0)\n",
      "filters mask None\n",
      "optimizer:  Adam , criterion: PoissonLoss \n",
      "# epochs: 25 \n",
      "early_stopping: 250\n",
      "lr= 0.01, weight_decay= 0, dir weight= 0\n"
     ]
    },
    {
     "name": "stderr",
     "output_type": "stream",
     "text": [
      "100%|████████████████████████████████████████████████████████████████████████████████████████████████████████████████████████████████████████████████████████████████████████████████████████████████| 25/25 [02:36<00:00,  6.27s/it]\n"
     ]
    },
    {
     "name": "stdout",
     "output_type": "stream",
     "text": [
      "Current time: 2024-05-13 13:52:46.890469\n",
      "\tLoss: 4.1597972711 , R2: 0.29\n",
      "\tTraining time (model/function): (845.625s / 156.842s)\n",
      "\t\tper epoch (model/function): (35.234s/ 6.535s)\n",
      "\t\tper 1k samples: 2.420s\n",
      "\n",
      "\n",
      "final refinement step (after shift)...\n",
      "\n",
      "unfreezing all layers for final refinement\n",
      "optimizer:  Adam , criterion: PoissonLoss \n",
      "# epochs: 25 \n",
      "early_stopping: 250\n",
      "lr= 0.01, weight_decay= 0, dir weight= 0\n"
     ]
    },
    {
     "name": "stderr",
     "output_type": "stream",
     "text": [
      "100%|████████████████████████████████████████████████████████████████████████████████████████████████████████████████████████████████████████████████████████████████████████████████████████████████| 25/25 [01:13<00:00,  2.92s/it]\n"
     ]
    },
    {
     "name": "stdout",
     "output_type": "stream",
     "text": [
      "Current time: 2024-05-13 13:54:01.886115\n",
      "\tLoss: 4.1211551030 , R2: 0.29\n",
      "\tTraining time (model/function): (918.695s / 73.070s)\n",
      "\t\tper epoch (model/function): (38.279s/ 3.045s)\n",
      "\t\tper 1k samples: 1.127s\n",
      "best loss 4.1190550327301025\n",
      "current r2 values by newly added filter\n",
      "[0.2870981457402342, 0.2873158928148126, 0.28732063953111564, 0.2872779633488447]\n",
      "optimizing feature type dinuc\n",
      "the optimization of dinucleotide features is skipped...\n",
      "\n",
      "optimization finished:\n",
      "total time: 918.6954953670502s\n",
      "Time per epoch (total): 4.593 s\n",
      "True /mnt/f/workspace/theislab/mubind/data/pancreatic_endocrinogenesis/random/mubind_output/obs1000/running_time.pkl\n",
      "pancreatic_endocrinogenesis /mnt/f/workspace/theislab/mubind/data/pancreatic_endocrinogenesis/random/mubind_output/obs1000/model_1.pt\n",
      "\n",
      "optimize log dynamics True\n",
      "setting up log dynamic\n",
      "True\n",
      "12\n",
      "order None\n",
      "0 out of 7...\n"
     ]
    },
    {
     "data": {
      "image/png": "[encoded data removed]",
      "text/plain": [
       "<Figure size 1350x270 with 6 Axes>"
      ]
     },
     "metadata": {},
     "output_type": "display_data"
    },
    {
     "name": "stdout",
     "output_type": "stream",
     "text": [
      "current kernels\n",
      "\\Filter to optimize 0 (intercept)\n",
      "\n",
      "FREEZING KERNELS\n",
      "optimizing feature type mono\n",
      "setting grad status of kernel (mono, dinuc) at 0 to (1, 0)\n",
      "filters mask None\n",
      "optimizer:  Adam , criterion: PoissonLoss \n",
      "# epochs: 50 \n",
      "early_stopping: 250\n",
      "lr= 0.01, weight_decay= 0, dir weight= 0\n"
     ]
    },
    {
     "name": "stderr",
     "output_type": "stream",
     "text": [
      "100%|████████████████████████████████████████████████████████████████████████████████████████████████████████████████████████████████████████████████████████████████████████████████████████████████| 50/50 [17:09<00:00, 20.58s/it]\n"
     ]
    },
    {
     "name": "stdout",
     "output_type": "stream",
     "text": [
      "Current time: 2024-05-13 14:11:36.467463\n",
      "\tLoss: 4.5306238333 , R2: 0.09\n",
      "\tTraining time (model/function): (1029.120s / 1029.120s)\n",
      "\t\tper epoch (model/function): (21.002s/ 21.002s)\n",
      "\t\tper 1k samples: 7.776s\n",
      "optimization of dinuc is not necessary for the intercepts (filter=0). Skip...\n",
      "current kernels\n",
      "\\Filter to optimize 1 \n",
      "\n",
      "FREEZING KERNELS\n",
      "optimizing feature type mono\n",
      "setting grad status of kernel (mono, dinuc) at 1 to (1, 0)\n",
      "filters mask None\n",
      "optimizer:  Adam , criterion: PoissonLoss \n",
      "# epochs: 25 \n",
      "early_stopping: 250\n",
      "lr= 0.01, weight_decay= 0, dir weight= 0\n"
     ]
    },
    {
     "name": "stderr",
     "output_type": "stream",
     "text": [
      " 52%|███████████████████████████████████████████████████████████████████████████████████████████████████▊                                                                                            | 13/25 [04:44<05:09, 25.82s/it]"
     ]
    }
   ],
   "source": [
    "res = []\n",
    "import numpy as np\n",
    "import pickle\n",
    "n_epochs_intercept = 50\n",
    "n_epochs_kernel = 25\n",
    "overwrite = True\n",
    "overwrite_train = True\n",
    "log_each=75\n",
    "\n",
    "\n",
    "for k in path_by_dataset:\n",
    "    for ad_path in glob.glob(path_by_dataset[k]):\n",
    "        if not '_obs1000_' in ad_path or not '/random/' in ad_path:\n",
    "            continue\n",
    "\n",
    "        n_cells = ad_path.split('_')[-2]\n",
    "        print('')\n",
    "        print(k, ad_path)\n",
    "\n",
    "        # assert False\n",
    "        print('reading anndata', ad_path)\n",
    "        adata = sc.read_h5ad(ad_path)\n",
    "        print(k, adata.shape)\n",
    "        # if neighbors are not present in the file, we have to include them\n",
    "        if not 'neighbors' in adata.uns:\n",
    "            if 'int' in str(adata.X.dtype):\n",
    "                adata.X = adata.X.astype(float)\n",
    "            sc.pp.neighbors(adata, method='rapids')\n",
    "\n",
    "        scbasset_split_file = os.path.join(os.path.dirname(ad_path), 'scbasset_input', n_cells, 'splits.h5')\n",
    "        scbasset_ad_path = os.path.join(os.path.dirname(ad_path), 'scbasset_input', n_cells, 'ad.h5ad')\n",
    "\n",
    "        print(scbasset_ad_path)\n",
    "\n",
    "        if not os.path.exists(scbasset_ad_path):\n",
    "            print('ad path not found. Next')\n",
    "            continue\n",
    "\n",
    "        mubind_outdir = os.path.join(os.path.dirname(ad_path), 'mubind_output', n_cells)\n",
    "        if not os.path.exists(mubind_outdir):\n",
    "            os.makedirs(mubind_outdir)\n",
    "        \n",
    "        model_path = os.path.join(mubind_outdir, 'model.pt')\n",
    "        # print(os.path.exists(model_path), model_path)\n",
    "\n",
    "        model_path_logdyn_true = model_path.replace('.pt', '_1.pt')\n",
    "        print(os.path.exists(model_path_logdyn_true), model_path_logdyn_true)\n",
    "\n",
    "        if not os.path.exists(model_path_logdyn_true) or overwrite:\n",
    "\n",
    "            adata_train, train, test = prepare_mubind_input(scbasset_ad_path,\n",
    "                                                            adata,\n",
    "                                                            k,\n",
    "                                                            scbasset_split_file)\n",
    "\n",
    "            model_by_logdynamic = {}\n",
    "            n_filters = 5\n",
    "            opt_kernel_shift=[0, 0] + [0] * (n_filters)\n",
    "            opt_kernel_length=[0, 0] + [0] * (n_filters)\n",
    "            kernels=[0] + [2] + [20] * (n_filters)\n",
    "\n",
    "            w = [10 for r in range(n_filters)]\n",
    "            epochs = [n_epochs_intercept] + [n_epochs_kernel] * (n_filters + 1)\n",
    "            print(epochs)\n",
    "            skip_kernels=range(5, 500)\n",
    "            opt_kernel_shift=[0, 0] + [0] * (n_filters)\n",
    "\n",
    "            for optimize_log_dynamic in [False, True]: #  True]:\n",
    "\n",
    "                # save model\n",
    "                next_model_path = model_path.replace('.pt', '_%i.pt' % optimize_log_dynamic)\n",
    "                print(k, next_model_path)\n",
    "                if not os.path.exists(next_model_path) or overwrite_train:\n",
    "                    print('')\n",
    "                    print('optimize log dynamics', optimize_log_dynamic)\n",
    "                    warnings.filterwarnings(\"ignore\")\n",
    "\n",
    "                    criterion = mb.tl.PoissonLoss()\n",
    "                    # w = [r.shape[1] for r in pwms]\n",
    "                    model = mb.models.Mubind.make_model(train,\n",
    "                                                        n_filters,\n",
    "                                                        criterion,\n",
    "                                                        kernels=[0, 2] + w,\n",
    "                                                        # use_dinuc=True, dinuc_mode='full',\n",
    "                                                        optimize_sym_weight=False,\n",
    "                                                        optimize_exp_barrier=True,\n",
    "                                                        optimize_prob_act=True,\n",
    "                                                        optimize_log_dynamic=optimize_log_dynamic,\n",
    "                                                        use_dinuc=False,\n",
    "                                                        device=device,\n",
    "                                                        log_each=log_each,\n",
    "                                                        p_dropout=None, # 0.8,\n",
    "                                                        adata=adata_train if optimize_log_dynamic else None,\n",
    "                                                        prepare_knn=optimize_log_dynamic,\n",
    "                                                        dinuc_mode=None).cuda()\n",
    "\n",
    "                    mb.pl.set_rcParams({'figure.figsize': [15, 3], 'figure.dpi': 90})\n",
    "                    mb.pl.logo(model,\n",
    "                            title=False,\n",
    "                            xticks=False,\n",
    "                            rowspan_dinuc=0,\n",
    "                            rowspan_mono=1,\n",
    "                            n_rows=5,\n",
    "                            n_cols=12,\n",
    "                            stop_at=10   ) # n_cols=len(reduced_groups))\n",
    "                        \n",
    "                    mb.pl.set_rcParams({'figure.figsize': [20, 5], 'figure.dpi': 100})\n",
    "\n",
    "                    # mb.pl.conv(model, n_cols=2)\n",
    "                    import torch.nn as tnn\n",
    "\n",
    "                    if optimize_log_dynamic:\n",
    "                        model.graph_module.conn_sparse = torch.tensor(adata[adata_train.obs_names,:].obsp['connectivities'].A).to_sparse().requires_grad_(True).cuda()\n",
    "                        model.graph_module.log_dynamic = tnn.Parameter(torch.rand(model.graph_module.conn_sparse.indices().shape[1])) # .cuda()\n",
    "                        model = model.cuda()\n",
    "                        model.graph_module.log_dynamic.shape\n",
    "\n",
    "\n",
    "                    import datetime\n",
    "                    t1 = datetime.datetime.now()\n",
    "                    model, best_loss = model.optimize_iterative(train,\n",
    "                                                                n_epochs=epochs,\n",
    "                                                                show_logo=False,\n",
    "                                                                use_mono=True,\n",
    "                                                                use_dinuc=False,\n",
    "                                                                dinuc_mode='local',\n",
    "                                                                opt_kernel_shift=opt_kernel_shift,\n",
    "                                                                opt_kernel_length=opt_kernel_length,\n",
    "                                                                opt_one_step=True,\n",
    "                                                                shift_max=1,\n",
    "                                                                shift_step=1,\n",
    "                                                                optimiser=topti.Adam,\n",
    "                                                                n_batches=1,\n",
    "                                                                n_rounds=2,\n",
    "                                                                num_epochs_shift_factor=1,\n",
    "                                                                r2_per_epoch=True,\n",
    "                                                                kernels=kernels,\n",
    "                                                                skip_kernels=skip_kernels,\n",
    "                                                                exp_max=8,\n",
    "                                                                early_stopping=250,\n",
    "                                                                log_each=log_each,\n",
    "                                                                w=20,\n",
    "                                                                max_w=20) #  target_dim=train.dataset.signal.shape[1])\n",
    "\n",
    "                    t2 = datetime.datetime.now()\n",
    "\n",
    "                    torch.save(model, next_model_path)\n",
    "                    model_by_logdynamic[optimize_log_dynamic] = model\n",
    "\n",
    "                    outpath_time = os.path.join(mubind_outdir, 'running_time.pkl')\n",
    "                    time_diff = (t2 - t1)\n",
    "                    pickle.dump(time_diff, open(outpath_time, 'wb'))\n",
    "                    print(os.path.exists(outpath_time), outpath_time)\n",
    "                    \n",
    "                else:\n",
    "                    model = torch.load(next_model_path)\n",
    "\n",
    "                roc_auc_train, roc_auc_test = utils.get_auroc(model, train), utils.get_auroc(model, test)\n",
    "                auprc_train, auprc_test = utils.get_auprc(model, train), utils.get_auprc(model, test)\n",
    "                res.append([k, optimize_log_dynamic, 'train', 'roc_auc', roc_auc_train])\n",
    "                res.append([k, optimize_log_dynamic, 'test', 'roc_auc', roc_auc_test])\n",
    "                res.append([k, optimize_log_dynamic, 'train', 'roc_auc', auprc_train])\n",
    "                res.append([k, optimize_log_dynamic, 'test', 'roc_auc', auprc_test])\n",
    "            \n",
    "            import pandas as pd\n",
    "            df = pd.DataFrame(res, columns=['dataset', 'log_dynamic', 'group', 'metric', 'value'])\n",
    "            df.to_csv(model_path.replace('.pt', '.csv'))"
   ]
  }
 ],
 "metadata": {
  "kernelspec": {
   "display_name": "mubind",
   "language": "python",
   "name": "mubind"
  },
  "language_info": {
   "codemirror_mode": {
    "name": "ipython",
    "version": 3
   },
   "file_extension": ".py",
   "mimetype": "text/x-python",
   "name": "python",
   "nbconvert_exporter": "python",
   "pygments_lexer": "ipython3",
   "version": "3.9.19"
  },
  "orig_nbformat": 4
 },
 "nbformat": 4,
 "nbformat_minor": 2
}
