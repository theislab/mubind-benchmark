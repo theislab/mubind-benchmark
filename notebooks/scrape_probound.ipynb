{
 "cells": [
  {
   "cell_type": "code",
   "execution_count": null,
   "metadata": {},
   "outputs": [],
   "source": [
    "import sys,os\n",
    "import pandas as pd\n",
    "\n",
    "from tqdm.notebook import tqdm_notebook as tqdm\n",
    "from selenium import webdriver\n",
    "from selenium.webdriver.common.by import By\n",
    "from selenium.webdriver.support.ui import WebDriverWait\n",
    "from selenium.webdriver.support import expected_conditions as EC\n",
    "\n",
    "\n",
    "import warnings\n",
    "warnings.filterwarnings('ignore')"
   ]
  },
  {
   "cell_type": "code",
   "execution_count": null,
   "metadata": {},
   "outputs": [],
   "source": [
    "base_url = 'https://motifcentral.org/fit/'\n",
    "DRIVER = webdriver.Safari # change to Chrome or Firefox based on local availability\n",
    "\n",
    "data_keys = [\n",
    "    'Pearson\\'s r2 (k-mer)',\n",
    "    'Pearson\\'s r2 (affinity-binned)',\n",
    "    'Maximum predicted bin enrichment',\n",
    "    'Maximum observed bin enrichment',\n",
    "    'Partial Pearson\\'s r2',\n",
    "    'Predicted partial max bin enrichment',\n",
    "    'Observed partial max bin enrichment',\n",
    "    'R2',\n",
    "    'Enrichment',\n",
    "    'R2, partial',\n",
    "    'Enrichment, partial',\n",
    "    ]"
   ]
  },
  {
   "attachments": {},
   "cell_type": "markdown",
   "metadata": {},
   "source": [
    "Next cell fills `ids` to use later."
   ]
  },
  {
   "cell_type": "code",
   "execution_count": null,
   "metadata": {},
   "outputs": [],
   "source": [
    "import re \n",
    "\n",
    "try:\n",
    "    browser = DRIVER()\n",
    "    browser.get('https://motifcentral.org/home')\n",
    "\n",
    "    el = WebDriverWait(browser, timeout=10).until(\n",
    "        EC.text_to_be_present_in_element((By.TAG_NAME, 'body'), 'Complex')\n",
    "    )\n",
    "\n",
    "    # write entire source to html file\n",
    "    file_path = os.path.join(os.path.expanduser('~'), 'Desktop', 'home_source.html')\n",
    "    with open(file_path, 'w') as f:\n",
    "        f.write(browser.page_source)\n",
    "\n",
    "    num_pages = int(re.search('Number of Pages: [0-9]+', browser.page_source).group(0).split(' ')[-1])\n",
    "    print('num_pages', int(num_pages))\n",
    "    ids = []\n",
    "    for page in tqdm(range(num_pages)):\n",
    "        # get ids from page\n",
    "        m = re.findall('ID: [0-9]*; Score', browser.page_source)\n",
    "        id_set = set([int(x.split(' ')[1][:-1]) for x in m])\n",
    "        ids.extend(id_set)\n",
    "\n",
    "        # click next page\n",
    "        if page != num_pages - 1: # don't click next page on last page\n",
    "            button = browser.find_element(By.XPATH, '//button[@aria-label = \"Next page\"]')\n",
    "            button.click()\n",
    "\n",
    "    browser.quit()\n",
    "    print(f'Collected {len(ids)} ids')\n",
    "except Exception as e:\n",
    "    print(e)\n",
    "    browser.quit()"
   ]
  },
  {
   "attachments": {},
   "cell_type": "markdown",
   "metadata": {},
   "source": [
    "Parse useful values from HTML page for each id"
   ]
  },
  {
   "cell_type": "code",
   "execution_count": null,
   "metadata": {},
   "outputs": [],
   "source": [
    "browser = DRIVER() \n",
    "\n",
    "id_results = dict() # (int, dict) dict\n",
    "for id in tqdm(ids):\n",
    "    try:\n",
    "        browser.get(base_url + str(id))\n",
    "\n",
    "        el = WebDriverWait(browser, timeout=10).until(\n",
    "            EC.text_to_be_present_in_element((By.ID, 'selexKMerPrediction'), 'Pearson')\n",
    "        )\n",
    "\n",
    "        rows = browser.find_elements(By.CLASS_NAME, \"row\")\n",
    "\n",
    "        # collect rows containing the lines from data_keys\n",
    "        result_rows = set()\n",
    "        for key in data_keys:\n",
    "            for r in rows:\n",
    "                if key in r.text and '_' not in r.text: \n",
    "                    if key == 'Predicted partial max bin enrichment':\n",
    "                        # hacky fix because colon is missing from webpage\n",
    "                        idx = r.text.index('nt') + 2\n",
    "                        result_rows.add(r.text[:idx] + ':' + r.text[idx:])\n",
    "                    else:\n",
    "                        result_rows.add(r.text)\n",
    "\n",
    "        results = dict() # (str, str) dict\n",
    "        for row in result_rows:\n",
    "            k, v = row.split(':')\n",
    "            results[k] = v.strip()\n",
    "\n",
    "        id_results[id] = results\n",
    "    except Exception as e:\n",
    "        print(e)\n",
    "        browser.quit()\n",
    "        "
   ]
  }
 ],
 "metadata": {
  "kernelspec": {
   "display_name": "mubind",
   "language": "python",
   "name": "python3"
  },
  "language_info": {
   "codemirror_mode": {
    "name": "ipython",
    "version": 3
   },
   "file_extension": ".py",
   "mimetype": "text/x-python",
   "name": "python",
   "nbconvert_exporter": "python",
   "pygments_lexer": "ipython3",
   "version": "3.10.6"
  },
  "orig_nbformat": 4,
  "vscode": {
   "interpreter": {
    "hash": "598830fe471ad270c8799031f2ac384ffcd0e141210cbf2b0994cc2f8665407f"
   }
  }
 },
 "nbformat": 4,
 "nbformat_minor": 2
}
