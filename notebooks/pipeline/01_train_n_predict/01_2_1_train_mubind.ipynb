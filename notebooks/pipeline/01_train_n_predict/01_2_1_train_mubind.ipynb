{
 "cells": [
  {
   "attachments": {},
   "cell_type": "markdown",
   "metadata": {},
   "source": [
    "### List datasets that will be used for training with scBasset"
   ]
  },
  {
   "cell_type": "code",
   "execution_count": 1,
   "metadata": {},
   "outputs": [],
   "source": [
    "%load_ext autoreload\n",
    "%autoreload 2"
   ]
  },
  {
   "cell_type": "code",
   "execution_count": 2,
   "metadata": {},
   "outputs": [
    {
     "name": "stdout",
     "output_type": "stream",
     "text": [
      "[Errno 2] No such file or directory: '/home/ilibarra/workspace/theislab/mubind-pipeline/notebooks/pipeline/01_train_n_predict/'\n",
      "/home/ilibarra/jupyter\n"
     ]
    },
    {
     "name": "stderr",
     "output_type": "stream",
     "text": [
      "/home/ilibarra/miniconda3/envs/mubind/lib/python3.9/site-packages/IPython/core/magics/osm.py:393: UserWarning: using bookmarks requires you to install the `pickleshare` library.\n",
      "  bkms = self.shell.db.get('bookmarks', {})\n"
     ]
    }
   ],
   "source": [
    "cd ~/workspace/theislab/mubind-pipeline/notebooks/pipeline/01_train_n_predict/"
   ]
  },
  {
   "cell_type": "code",
   "execution_count": 3,
   "metadata": {},
   "outputs": [
    {
     "ename": "ModuleNotFoundError",
     "evalue": "No module named 'utils'",
     "output_type": "error",
     "traceback": [
      "\u001b[0;31m---------------------------------------------------------------------------\u001b[0m",
      "\u001b[0;31mModuleNotFoundError\u001b[0m                       Traceback (most recent call last)",
      "Cell \u001b[0;32mIn[3], line 2\u001b[0m\n\u001b[1;32m      1\u001b[0m \u001b[38;5;28;01mimport\u001b[39;00m \u001b[38;5;21;01mmubind\u001b[39;00m \u001b[38;5;28;01mas\u001b[39;00m \u001b[38;5;21;01mmb\u001b[39;00m\n\u001b[0;32m----> 2\u001b[0m \u001b[38;5;28;01mimport\u001b[39;00m \u001b[38;5;21;01mutils\u001b[39;00m\n",
      "\u001b[0;31mModuleNotFoundError\u001b[0m: No module named 'utils'"
     ]
    }
   ],
   "source": [
    "import mubind as mb\n",
    "import utils"
   ]
  },
  {
   "cell_type": "code",
   "execution_count": null,
   "metadata": {},
   "outputs": [
    {
     "name": "stdout",
     "output_type": "stream",
     "text": [
      "organoids\n",
      "gbm\n",
      "noack_2022\n",
      "pancreatic_endocrinogenesis\n",
      "pbmc\n"
     ]
    }
   ],
   "source": [
    "path_by_dataset = utils.get_datasets()\n",
    "for k in path_by_dataset:\n",
    "    print(k)\n",
    "    if k != 'pancreatic_endocrinogenesis':\n",
    "        continue"
   ]
  },
  {
   "cell_type": "code",
   "execution_count": null,
   "metadata": {},
   "outputs": [],
   "source": [
    "import torch\n",
    "path_by_dataset = utils.get_datasets()\n",
    "device = torch.device(\"cuda:0\" if torch.cuda.is_available() else \"cpu\")\n"
   ]
  },
  {
   "cell_type": "markdown",
   "metadata": {},
   "source": [
    "move to relevant directory to execute scbasset"
   ]
  },
  {
   "cell_type": "code",
   "execution_count": null,
   "metadata": {},
   "outputs": [],
   "source": [
    "import scanpy as sc\n",
    "# only focus on the peaks defined by scBasset during training/testing\n",
    "import os\n",
    "import h5py\n",
    "import torch.optim as topti\n",
    "import warnings\n",
    "import torch.utils.data as tdata\n",
    "import glob\n",
    "import numpy as np"
   ]
  },
  {
   "cell_type": "code",
   "execution_count": null,
   "metadata": {},
   "outputs": [],
   "source": [
    "# prepare mubind's input based on what scBasset sees when calling its main trainer\n",
    "def prepare_mubind_input(scbasset_ad_path,\n",
    "                         adata,\n",
    "                         k,\n",
    "                         scbasset_split_file):\n",
    "    species = 'hg38' if (k != 'noack_2022' and k != 'pancreatic_endocrinogenesis') else 'mm10'\n",
    "    gen_path = '/mnt/c/Users/IgnacioIbarra/Dropbox/annotations/%s/genome/%s.fa' % (species, species)\n",
    "\n",
    "    ad_scbasset = sc.read_h5ad(scbasset_ad_path)\n",
    "    list(map(os.path.exists, [scbasset_split_file, scbasset_ad_path]))\n",
    "\n",
    "    # csr matrices\n",
    "    with h5py.File(scbasset_split_file, 'r') as hf:\n",
    "        train_ids = hf['train_ids'][:]\n",
    "        val_ids = hf['val_ids'][:]\n",
    "        test_ids = hf['test_ids'][:]\n",
    "\n",
    "\n",
    "    # print(adata.var)\n",
    "\n",
    "    sep = '-' if k != 'gbm' else ':'\n",
    "    adata.var['chr'] = np.where(adata.var_names.str.contains(':'),\n",
    "                                adata.var_names.str.split(':').str[0],\n",
    "                                adata.var_names.str.split('-').str[0])\n",
    "    adata.var['chr'] = np.where(~adata.var['chr'].str.contains('chr'), 'chr', '') + adata.var['chr']\n",
    "\n",
    "    colon_found = adata.var_names.str.contains(':').any()\n",
    "    colon_found\n",
    "    if colon_found:\n",
    "        adata.var['start'] =   adata.var_names.str.split(':').str[1].str.split('-').str[0]\n",
    "        adata.var['end'] = adata.var_names.str.split(':').str[1].str.split('-').str[1]\n",
    "    else:\n",
    "        adata.var['start'] = adata.var_names.str.split('-').str[1]\n",
    "        adata.var['end'] = adata.var_names.str.split('-').str[2]\n",
    "        \n",
    "    # print(adata.var[['chr', 'start', 'end']])\n",
    "\n",
    "    adata.var['seq_length'] = adata.var['end'].astype(int) - adata.var['start'].astype(int) + 1\n",
    "    adata.var['k_summit'] = adata.var['chr'] + ':' + adata.var['start'] + '-' + adata.var['end']\n",
    "\n",
    "    adata_train = adata[:,ad_scbasset.var_names[train_ids]].copy()\n",
    "    adata_test = adata[:,ad_scbasset.var_names[test_ids]].copy()\n",
    "    adata.shape, adata_train.shape, adata_test.shape\n",
    "\n",
    "\n",
    "    n_seqs = None # None\n",
    "\n",
    "    print('preparing sequences train...')\n",
    "    seqs_train = mb.bindome.tl.get_sequences_from_bed(adata_train.var[['chr', 'start', 'end']].head(n_seqs),\n",
    "                                                    gen_path=gen_path,\n",
    "                                                    uppercase=True)\n",
    "                                                # gen_path='../../../annotations/dm6/genome/dm6.fa')\n",
    "    keys_train = set([s[0] for s in seqs_train])\n",
    "    adata_train = adata_train[:,adata_train.var['k_summit'].isin(keys_train)]\n",
    "\n",
    "\n",
    "    print('preparing sequences test...')\n",
    "    seqs_test = mb.bindome.tl.get_sequences_from_bed(adata_test.var[['chr', 'start', 'end']].head(n_seqs),\n",
    "                                                    gen_path=gen_path,\n",
    "                                                    uppercase=True)\n",
    "                                                # gen_path='../../../annotations/dm6/genome/dm6.fa')\n",
    "    keys_test = set([s[0] for s in seqs_test])\n",
    "    adata_test = adata_test[:,adata_test.var['k_summit'].isin(keys_test)]\n",
    "\n",
    "    print(adata_train.shape, adata_test.shape)\n",
    "\n",
    "    print('sum of reads', adata_train.X.sum())\n",
    "    assert adata_train.X.sum() > 0\n",
    "\n",
    "    df_train = utils.prepare_df(seqs_train, adata_train)\n",
    "    df_test = utils.prepare_df(seqs_test, adata_test)\n",
    "\n",
    "    df_train.shape, df_test.shape\n",
    "\n",
    "    dataset_train = mb.datasets.SelexDataset(df_train,\n",
    "                                            n_rounds=df_train.shape[1],\n",
    "                                            enr_series=False)\n",
    "    train = tdata.DataLoader(dataset=dataset_train,\n",
    "                            batch_size=512,\n",
    "                            shuffle=True)\n",
    "    dataset_test = mb.datasets.SelexDataset(df_train,\n",
    "                                            n_rounds=df_train.shape[1],\n",
    "                                            enr_series=False)\n",
    "    test = tdata.DataLoader(dataset=dataset_test,\n",
    "                            batch_size=512,\n",
    "                            shuffle=False)\n",
    "    \n",
    "    return adata_train, train, test"
   ]
  },
  {
   "cell_type": "code",
   "execution_count": null,
   "metadata": {},
   "outputs": [],
   "source": [
    "import bindome as bd\n",
    "bd.constants.ANNOTATIONS_DIRECTORY = 'annotations'"
   ]
  },
  {
   "cell_type": "code",
   "execution_count": null,
   "metadata": {},
   "outputs": [
    {
     "data": {
      "text/plain": [
       "'/mnt/f/workspace/theislab/mubind/data/pbmc/*/processed_laura_2023_obs*_var*.h5ad'"
      ]
     },
     "execution_count": 9,
     "metadata": {},
     "output_type": "execute_result"
    }
   ],
   "source": [
    "path_by_dataset[k]"
   ]
  },
  {
   "cell_type": "code",
   "execution_count": null,
   "metadata": {},
   "outputs": [
    {
     "data": {
      "text/plain": [
       "{'organoids': '/mnt/f/workspace/theislab/mubind/data/organoids_treutlein_dataset/RNA_ATAC_metacells_sce_peaks_obs2000_var4000.h5ad',\n",
       " 'gbm': '/mnt/f/workspace/theislab/mubind/data/gbm_multiome_scdori/23_01_23_atac_compressed_n1000.h5ad',\n",
       " 'noack_2022': '/mnt/f/workspace/theislab/mubind/data/noack_2022/*/merged_scATAC_integrated_cicero_faye_chong_obs*_var*.h5ad',\n",
       " 'pancreatic_endocrinogenesis': '/mnt/f/workspace/theislab/mubind/data/pancreatic_endocrinogenesis/*/pancreas_multiome_2022_processed_atac_obs*_var*.h5ad',\n",
       " 'pbmc': '/mnt/f/workspace/theislab/mubind/data/pbmc/*/processed_laura_2023_obs*_var*.h5ad'}"
      ]
     },
     "execution_count": 17,
     "metadata": {},
     "output_type": "execute_result"
    }
   ],
   "source": []
  },
  {
   "cell_type": "code",
   "execution_count": null,
   "metadata": {},
   "outputs": [],
   "source": [
    "import pandas as pd\n",
    "ad_paths = []\n",
    "for k in path_by_dataset:\n",
    "    ad_paths += [ad_path for ad_path in glob.glob(path_by_dataset[k]) if 'obs' in ad_path]\n",
    "n_obs = [f.split('_')[-2].replace('obs', '') for f in ad_paths]\n",
    "n_obs\n",
    "\n",
    "queries = pd.DataFrame()\n",
    "queries['n_obs'] = n_obs\n",
    "queries['path'] = ad_paths\n",
    "\n",
    "queries['n_obs'] = np.where(queries['n_obs'] == 'ALL', 100000, queries['n_obs'])\n",
    "queries['n_obs'] = queries['n_obs'].astype(int)\n"
   ]
  },
  {
   "cell_type": "code",
   "execution_count": 29,
   "metadata": {},
   "outputs": [
    {
     "name": "stdout",
     "output_type": "stream",
     "text": [
      "/mnt/f/workspace/theislab/mubind/data/pancreatic_endocrinogenesis/episcanpy/pancreas_multiome_2022_processed_atac_obs100_var300.h5ad\n",
      "pbmc (100, 369)\n",
      "False /mnt/f/workspace/theislab/mubind/data/pancreatic_endocrinogenesis/episcanpy/mubind_output/obs100/pwms/model.pt\n",
      "False /mnt/f/workspace/theislab/mubind/data/pancreatic_endocrinogenesis/episcanpy/mubind_output/obs100/pwms/model_1.pt\n",
      "preparing sequences train...\n",
      "/tmp/tmpm894vhd0\n",
      "genome hg19 False\n",
      "/mnt/c/Users/IgnacioIbarra/Dropbox/annotations/hg38/genome/hg38.fa\n",
      "True /mnt/c/Users/IgnacioIbarra/Dropbox/annotations/hg38/genome/hg38.fa\n",
      "running bedtools...\n",
      "['bedtools', 'getfasta', '-fi', '/mnt/c/Users/IgnacioIbarra/Dropbox/annotations/hg38/genome/hg38.fa', '-bed', '/tmp/tmpm894vhd0', '-fo', '/tmp/tmpgk9au5z0']\n",
      "bedtools getfasta -fi /mnt/c/Users/IgnacioIbarra/Dropbox/annotations/hg38/genome/hg38.fa -bed /tmp/tmpm894vhd0 -fo /tmp/tmpgk9au5z0\n"
     ]
    },
    {
     "name": "stderr",
     "output_type": "stream",
     "text": [
      "Feature (chr15:102279025-102279932) beyond the length of chr15 size (101991189 bp).  Skipping.\n",
      "Feature (chr15:103304875-103305793) beyond the length of chr15 size (101991189 bp).  Skipping.\n",
      "Feature (chr16:91931149-91932053) beyond the length of chr16 size (90338345 bp).  Skipping.\n",
      "Feature (chr18:82717335-82718240) beyond the length of chr18 size (80373285 bp).  Skipping.\n",
      "Feature (chr19:60226121-60227035) beyond the length of chr19 size (58617616 bp).  Skipping.\n",
      "Feature (chrX:159255242-159256134) beyond the length of chrX size (156040895 bp).  Skipping.\n",
      "Feature (chr16:91010774-91011726) beyond the length of chr16 size (90338345 bp).  Skipping.\n"
     ]
    },
    {
     "name": "stdout",
     "output_type": "stream",
     "text": [
      "preparing sequences test...\n",
      "/tmp/tmpn5b86qh2\n",
      "genome hg19 False\n",
      "/mnt/c/Users/IgnacioIbarra/Dropbox/annotations/hg38/genome/hg38.fa\n",
      "True /mnt/c/Users/IgnacioIbarra/Dropbox/annotations/hg38/genome/hg38.fa\n",
      "running bedtools...\n",
      "['bedtools', 'getfasta', '-fi', '/mnt/c/Users/IgnacioIbarra/Dropbox/annotations/hg38/genome/hg38.fa', '-bed', '/tmp/tmpn5b86qh2', '-fo', '/tmp/tmpx06ttop2']\n",
      "bedtools getfasta -fi /mnt/c/Users/IgnacioIbarra/Dropbox/annotations/hg38/genome/hg38.fa -bed /tmp/tmpn5b86qh2 -fo /tmp/tmpx06ttop2\n",
      "(100, 327) (100, 17)\n",
      "sum of reads 25343.0\n",
      "(327, 101)\n",
      "# cells 100\n",
      "# peaks 327\n",
      "selected (327, 100)\n",
      "(17, 101)\n",
      "# cells 100\n",
      "# peaks 17\n",
      "selected (17, 100)\n",
      "[15, 15, 15, 15, 15, 15, 15, 15, 15, 15, 15, 15, 15, 15, 15, 15, 15, 15, 15, 15, 15, 15, 15, 15, 15, 15, 15, 15, 15, 15, 15, 15, 15, 15, 15, 15, 15, 15, 15, 15, 15, 15, 15, 15, 15, 15, 15, 15, 15, 15, 15, 15, 15, 15, 15, 15, 15, 15, 15, 15, 15, 15, 15, 15, 15, 15, 15, 15, 15, 15, 15, 15, 15, 15, 15, 15, 15, 15, 15, 15, 15, 15, 15, 15, 15, 15, 15, 15, 15, 15, 15, 15, 15, 15, 15, 15, 15, 15, 15, 15, 15, 15, 15, 15, 15, 15, 15, 15, 15, 15, 15, 15, 15, 15, 15, 15, 15, 15, 15, 15, 15, 15, 15, 15, 15, 15, 15, 15, 15, 15, 15, 15, 15, 15, 15, 15, 15, 15, 15, 15, 15, 15, 15, 15, 15, 15, 15, 15, 15, 15, 15, 15, 15, 15, 15, 15, 15, 15, 15, 15, 15, 15, 15, 15, 15, 15, 15, 15, 15, 15, 15, 15, 15, 15, 15, 15, 15, 15, 15, 15, 15, 15, 15, 15, 15, 15, 15, 15, 15, 15, 15, 15, 15, 15, 15, 15, 15, 15, 15, 15, 15, 15, 15, 15, 15, 15, 15, 15, 15, 15, 15, 15, 15, 15, 15, 15, 15, 15, 15, 15, 15, 15, 15, 15, 15, 15, 15, 15, 15, 15, 15, 15, 15, 15, 15, 15, 15, 15, 15, 15, 15, 15, 15, 15, 15, 15, 15, 15, 15, 15, 15, 15, 15, 15, 15, 15, 15, 15, 15, 15, 15, 15, 15, 15, 15, 15, 15, 15, 15, 15, 15, 15, 15, 15, 15, 15, 15, 15, 15, 15, 15, 15, 15, 15, 15, 15, 15, 15, 15, 15]\n",
      "pbmc /mnt/f/workspace/theislab/mubind/data/pancreatic_endocrinogenesis/episcanpy/mubind_output/obs100/pwms/model_0.pt\n",
      "/mnt/f/workspace/theislab/mubind/data/pancreatic_endocrinogenesis/random/pancreas_multiome_2022_processed_atac_obs100_var300.h5ad\n",
      "pbmc (100, 300)\n",
      "False /mnt/f/workspace/theislab/mubind/data/pancreatic_endocrinogenesis/random/mubind_output/obs100/pwms/model.pt\n",
      "False /mnt/f/workspace/theislab/mubind/data/pancreatic_endocrinogenesis/random/mubind_output/obs100/pwms/model_1.pt\n",
      "preparing sequences train...\n",
      "/tmp/tmp2ry5_djx\n",
      "genome hg19 False\n",
      "/mnt/c/Users/IgnacioIbarra/Dropbox/annotations/hg38/genome/hg38.fa\n",
      "True /mnt/c/Users/IgnacioIbarra/Dropbox/annotations/hg38/genome/hg38.fa\n",
      "running bedtools...\n",
      "['bedtools', 'getfasta', '-fi', '/mnt/c/Users/IgnacioIbarra/Dropbox/annotations/hg38/genome/hg38.fa', '-bed', '/tmp/tmp2ry5_djx', '-fo', '/tmp/tmposri50su']\n",
      "bedtools getfasta -fi /mnt/c/Users/IgnacioIbarra/Dropbox/annotations/hg38/genome/hg38.fa -bed /tmp/tmp2ry5_djx -fo /tmp/tmposri50su\n",
      "preparing sequences test...\n",
      "/tmp/tmp6ienu_0p\n",
      "genome hg19 False\n",
      "/mnt/c/Users/IgnacioIbarra/Dropbox/annotations/hg38/genome/hg38.fa\n",
      "True /mnt/c/Users/IgnacioIbarra/Dropbox/annotations/hg38/genome/hg38.fa\n",
      "running bedtools...\n",
      "['bedtools', 'getfasta', '-fi', '/mnt/c/Users/IgnacioIbarra/Dropbox/annotations/hg38/genome/hg38.fa', '-bed', '/tmp/tmp6ienu_0p', '-fo', '/tmp/tmpu21ckaun']\n",
      "bedtools getfasta -fi /mnt/c/Users/IgnacioIbarra/Dropbox/annotations/hg38/genome/hg38.fa -bed /tmp/tmp6ienu_0p -fo /tmp/tmpu21ckaun\n"
     ]
    },
    {
     "name": "stderr",
     "output_type": "stream",
     "text": [
      "Feature (chr13:117315086-117315923) beyond the length of chr13 size (114364328 bp).  Skipping.\n",
      "Feature (chr14:118282646-118283551) beyond the length of chr14 size (107043718 bp).  Skipping.\n",
      "Feature (chr17:83937177-83937968) beyond the length of chr17 size (83257441 bp).  Skipping.\n",
      "Feature (chr19:58879793-58880578) beyond the length of chr19 size (58617616 bp).  Skipping.\n",
      "Feature (chrX:160856362-160857235) beyond the length of chrX size (156040895 bp).  Skipping.\n"
     ]
    },
    {
     "name": "stdout",
     "output_type": "stream",
     "text": [
      "(100, 266) (100, 15)\n",
      "sum of reads 1860.0\n",
      "(266, 101)\n",
      "# cells 100\n",
      "# peaks 266\n",
      "selected (231, 100)\n",
      "(15, 101)\n",
      "# cells 100\n",
      "# peaks 15\n",
      "selected (13, 100)\n",
      "[15, 15, 15, 15, 15, 15, 15, 15, 15, 15, 15, 15, 15, 15, 15, 15, 15, 15, 15, 15, 15, 15, 15, 15, 15, 15, 15, 15, 15, 15, 15, 15, 15, 15, 15, 15, 15, 15, 15, 15, 15, 15, 15, 15, 15, 15, 15, 15, 15, 15, 15, 15, 15, 15, 15, 15, 15, 15, 15, 15, 15, 15, 15, 15, 15, 15, 15, 15, 15, 15, 15, 15, 15, 15, 15, 15, 15, 15, 15, 15, 15, 15, 15, 15, 15, 15, 15, 15, 15, 15, 15, 15, 15, 15, 15, 15, 15, 15, 15, 15, 15, 15, 15, 15, 15, 15, 15, 15, 15, 15, 15, 15, 15, 15, 15, 15, 15, 15, 15, 15, 15, 15, 15, 15, 15, 15, 15, 15, 15, 15, 15, 15, 15, 15, 15, 15, 15, 15, 15, 15, 15, 15, 15, 15, 15, 15, 15, 15, 15, 15, 15, 15, 15, 15, 15, 15, 15, 15, 15, 15, 15, 15, 15, 15, 15, 15, 15, 15, 15, 15, 15, 15, 15, 15, 15, 15, 15, 15, 15, 15, 15, 15, 15, 15, 15, 15, 15, 15, 15, 15, 15, 15, 15, 15, 15, 15, 15, 15, 15, 15, 15, 15, 15, 15, 15, 15, 15, 15, 15, 15, 15, 15, 15, 15, 15, 15, 15, 15, 15, 15, 15, 15, 15, 15, 15, 15, 15, 15, 15, 15, 15, 15, 15, 15, 15, 15, 15, 15, 15, 15, 15, 15, 15, 15, 15, 15, 15, 15, 15, 15, 15, 15, 15, 15, 15, 15, 15, 15, 15, 15, 15, 15, 15, 15, 15, 15, 15, 15, 15, 15, 15, 15, 15, 15, 15, 15, 15, 15, 15, 15, 15, 15, 15, 15, 15, 15, 15, 15, 15, 15]\n",
      "pbmc /mnt/f/workspace/theislab/mubind/data/pancreatic_endocrinogenesis/random/mubind_output/obs100/pwms/model_0.pt\n",
      "/mnt/f/workspace/theislab/mubind/data/pbmc/episcanpy/processed_laura_2023_obs100_var300.h5ad\n",
      "pbmc (100, 360)\n",
      "False /mnt/f/workspace/theislab/mubind/data/pbmc/episcanpy/mubind_output/obs100/pwms/model.pt\n",
      "False /mnt/f/workspace/theislab/mubind/data/pbmc/episcanpy/mubind_output/obs100/pwms/model_1.pt\n",
      "preparing sequences train...\n",
      "/tmp/tmpiq83tq1s\n",
      "genome hg19 False\n",
      "/mnt/c/Users/IgnacioIbarra/Dropbox/annotations/hg38/genome/hg38.fa\n",
      "True /mnt/c/Users/IgnacioIbarra/Dropbox/annotations/hg38/genome/hg38.fa\n",
      "running bedtools...\n",
      "['bedtools', 'getfasta', '-fi', '/mnt/c/Users/IgnacioIbarra/Dropbox/annotations/hg38/genome/hg38.fa', '-bed', '/tmp/tmpiq83tq1s', '-fo', '/tmp/tmp7efz6akr']\n",
      "bedtools getfasta -fi /mnt/c/Users/IgnacioIbarra/Dropbox/annotations/hg38/genome/hg38.fa -bed /tmp/tmpiq83tq1s -fo /tmp/tmp7efz6akr\n",
      "preparing sequences test...\n",
      "/tmp/tmpyxgovob9\n",
      "genome hg19 False\n",
      "/mnt/c/Users/IgnacioIbarra/Dropbox/annotations/hg38/genome/hg38.fa\n",
      "True /mnt/c/Users/IgnacioIbarra/Dropbox/annotations/hg38/genome/hg38.fa\n",
      "running bedtools...\n",
      "['bedtools', 'getfasta', '-fi', '/mnt/c/Users/IgnacioIbarra/Dropbox/annotations/hg38/genome/hg38.fa', '-bed', '/tmp/tmpyxgovob9', '-fo', '/tmp/tmp2h2xo4_q']\n",
      "bedtools getfasta -fi /mnt/c/Users/IgnacioIbarra/Dropbox/annotations/hg38/genome/hg38.fa -bed /tmp/tmpyxgovob9 -fo /tmp/tmp2h2xo4_q\n",
      "(100, 325) (100, 18)\n",
      "sum of reads 24869.0\n",
      "(325, 101)\n",
      "# cells 100\n",
      "# peaks 325\n",
      "selected (325, 100)\n",
      "(18, 101)\n",
      "# cells 100\n",
      "# peaks 18\n",
      "selected (18, 100)\n",
      "[15, 15, 15, 15, 15, 15, 15, 15, 15, 15, 15, 15, 15, 15, 15, 15, 15, 15, 15, 15, 15, 15, 15, 15, 15, 15, 15, 15, 15, 15, 15, 15, 15, 15, 15, 15, 15, 15, 15, 15, 15, 15, 15, 15, 15, 15, 15, 15, 15, 15, 15, 15, 15, 15, 15, 15, 15, 15, 15, 15, 15, 15, 15, 15, 15, 15, 15, 15, 15, 15, 15, 15, 15, 15, 15, 15, 15, 15, 15, 15, 15, 15, 15, 15, 15, 15, 15, 15, 15, 15, 15, 15, 15, 15, 15, 15, 15, 15, 15, 15, 15, 15, 15, 15, 15, 15, 15, 15, 15, 15, 15, 15, 15, 15, 15, 15, 15, 15, 15, 15, 15, 15, 15, 15, 15, 15, 15, 15, 15, 15, 15, 15, 15, 15, 15, 15, 15, 15, 15, 15, 15, 15, 15, 15, 15, 15, 15, 15, 15, 15, 15, 15, 15, 15, 15, 15, 15, 15, 15, 15, 15, 15, 15, 15, 15, 15, 15, 15, 15, 15, 15, 15, 15, 15, 15, 15, 15, 15, 15, 15, 15, 15, 15, 15, 15, 15, 15, 15, 15, 15, 15, 15, 15, 15, 15, 15, 15, 15, 15, 15, 15, 15, 15, 15, 15, 15, 15, 15, 15, 15, 15, 15, 15, 15, 15, 15, 15, 15, 15, 15, 15, 15, 15, 15, 15, 15, 15, 15, 15, 15, 15, 15, 15, 15, 15, 15, 15, 15, 15, 15, 15, 15, 15, 15, 15, 15, 15, 15, 15, 15, 15, 15, 15, 15, 15, 15, 15, 15, 15, 15, 15, 15, 15, 15, 15, 15, 15, 15, 15, 15, 15, 15, 15, 15, 15, 15, 15, 15, 15, 15, 15, 15, 15, 15, 15, 15, 15, 15, 15, 15]\n",
      "pbmc /mnt/f/workspace/theislab/mubind/data/pbmc/episcanpy/mubind_output/obs100/pwms/model_0.pt\n",
      "\n",
      "optimize log dynamics False\n",
      "# motifs loaded 2179\n",
      "True\n",
      "12\n",
      "order None\n",
      "0 out of 288...\n",
      "break\n"
     ]
    },
    {
     "data": {
      "image/png": "[encoded data removed]",
      "text/plain": [
       "<Figure size 1350x270 with 9 Axes>"
      ]
     },
     "metadata": {},
     "output_type": "display_data"
    },
    {
     "name": "stdout",
     "output_type": "stream",
     "text": [
      "verbose=2\n",
      "current kernel 0\n",
      "\n",
      "### next filter to optimize 0 (intercept)\n",
      "\n",
      "FREEZING KERNELS\n",
      "optimizing feature type mono\n",
      "next kernels {0, 1, 2, 3, 4, 5, 6, 7, 8, 9, 10, 11, 12, 13, 14, 15, 16, 17, 18, 19, 20, 21, 22, 23, 24, 25, 26, 27, 28, 29, 30, 31, 32, 33, 34, 35, 36, 37, 38, 39, 40, 41, 42, 43, 44, 45, 46, 47, 48, 49}\n",
      "filters mask None\n",
      "optimizer:  Adam , criterion: PoissonLoss \n",
      "epochs: 15 \n",
      "early_stopping: 250\n",
      "lr= 0.01, weight_decay= 0, dir weight= 0\n"
     ]
    },
    {
     "name": "stderr",
     "output_type": "stream",
     "text": [
      "100%|█████████████████████████████████████████████████████████████████████████████████████████████████████████████████████████████████████████████████████████████████████████████████████████████████| 15/15 [03:55<00:00, 15.69s/it]\n"
     ]
    },
    {
     "name": "stdout",
     "output_type": "stream",
     "text": [
      "Current time: 2024-06-05 01:26:01.196913\n",
      "\tLoss: 267.909 , R2: 0.068\n",
      "\tTraining time (model/function): (235.329s / 235.329s)\n",
      "\t\tper epoch (model/function): (16.809s/ 16.809s)\n",
      "\t\tper 1k samples: 51.721s\n",
      "('etas corr with lib_sizes (before refinement)', SignificanceResult(statistic=0.9998439794291893, pvalue=1.3182763122274082e-173))\n",
      "optimization of dinuc is not valid for the intercept (filter=0). Skip...\n",
      "current kernel 50\n",
      "\n",
      "### next filter to optimize 50 \n",
      "\n",
      "FREEZING KERNELS\n",
      "optimizing feature type mono\n",
      "next kernels {50, 51, 52, 53, 54, 55, 56, 57, 58, 59, 60, 61, 62, 63, 64, 65, 66, 67, 68, 69, 70, 71, 72, 73, 74, 75, 76, 77, 78, 79, 80, 81, 82, 83, 84, 85, 86, 87, 88, 89, 90, 91, 92, 93, 94, 95, 96, 97, 98, 99}\n",
      "filters mask None\n",
      "optimizer:  Adam , criterion: PoissonLoss \n",
      "epochs: 15 \n",
      "early_stopping: 250\n",
      "lr= 0.01, weight_decay= 0, dir weight= 0\n"
     ]
    },
    {
     "name": "stderr",
     "output_type": "stream",
     "text": [
      "100%|█████████████████████████████████████████████████████████████████████████████████████████████████████████████████████████████████████████████████████████████████████████████████████████████████| 15/15 [03:44<00:00, 14.98s/it]\n"
     ]
    },
    {
     "name": "stdout",
     "output_type": "stream",
     "text": [
      "Current time: 2024-06-05 01:30:09.395081\n",
      "\tLoss: 259.332 , R2: 0.081\n",
      "\tTraining time (model/function): (460.094s / 224.765s)\n",
      "\t\tper epoch (model/function): (32.864s/ 16.055s)\n",
      "\t\tper 1k samples: 49.399s\n",
      "('etas corr with lib_sizes (before refinement)', SignificanceResult(statistic=0.9998439794291893, pvalue=1.3182763122274082e-173))\n",
      "\n",
      "\n",
      "final refinement step (after shift)...unfreezing all layers\n",
      "optimizer:  Adam , criterion: PoissonLoss \n",
      "epochs: 15 \n",
      "early_stopping: 250\n",
      "lr= 0.01, weight_decay= 0, dir weight= 0\n"
     ]
    },
    {
     "name": "stderr",
     "output_type": "stream",
     "text": [
      "100%|█████████████████████████████████████████████████████████████████████████████████████████████████████████████████████████████████████████████████████████████████████████████████████████████████| 15/15 [04:24<00:00, 17.62s/it]\n"
     ]
    },
    {
     "name": "stdout",
     "output_type": "stream",
     "text": [
      "Current time: 2024-06-05 01:34:54.237335\n",
      "\tLoss: 246.248 , R2: 0.081\n",
      "\tTraining time (model/function): (724.432s / 264.337s)\n",
      "\t\tper epoch (model/function): (51.745s/ 18.881s)\n",
      "\t\tper 1k samples: 58.096s\n",
      "best loss 246.248\n",
      "last five r2 values, by sequential filter optimization: ['0.081']\n",
      "('etas corr with lib_sizes (before refinement)', SignificanceResult(statistic=0.9998439794291893, pvalue=1.3182763122274082e-173))\n",
      "optimizing feature type dinuc\n",
      "the optimization of dinucleotide features is skipped...\n",
      "current kernel 100\n",
      "\n",
      "### next filter to optimize 100 \n",
      "\n",
      "FREEZING KERNELS\n",
      "optimizing feature type mono\n",
      "next kernels {128, 129, 130, 131, 132, 133, 134, 135, 136, 137, 138, 139, 140, 141, 142, 143, 144, 145, 146, 147, 148, 149, 100, 101, 102, 103, 104, 105, 106, 107, 108, 109, 110, 111, 112, 113, 114, 115, 116, 117, 118, 119, 120, 121, 122, 123, 124, 125, 126, 127}\n",
      "filters mask None\n",
      "optimizer:  Adam , criterion: PoissonLoss \n",
      "epochs: 15 \n",
      "early_stopping: 250\n",
      "lr= 0.01, weight_decay= 0, dir weight= 0\n"
     ]
    },
    {
     "name": "stderr",
     "output_type": "stream",
     "text": [
      "100%|█████████████████████████████████████████████████████████████████████████████████████████████████████████████████████████████████████████████████████████████████████████████████████████████████| 15/15 [03:40<00:00, 14.72s/it]\n"
     ]
    },
    {
     "name": "stdout",
     "output_type": "stream",
     "text": [
      "Current time: 2024-06-05 01:39:17.412465\n",
      "\tLoss: 240.417 , R2: 0.088\n",
      "\tTraining time (model/function): (945.299s / 220.867s)\n",
      "\t\tper epoch (model/function): (67.521s/ 15.776s)\n",
      "\t\tper 1k samples: 48.542s\n",
      "('etas corr with lib_sizes (before refinement)', SignificanceResult(statistic=0.9998439794291893, pvalue=1.3182763122274082e-173))\n",
      "\n",
      "\n",
      "final refinement step (after shift)...unfreezing all layers\n",
      "optimizer:  Adam , criterion: PoissonLoss \n",
      "epochs: 15 \n",
      "early_stopping: 250\n",
      "lr= 0.01, weight_decay= 0, dir weight= 0\n"
     ]
    },
    {
     "name": "stderr",
     "output_type": "stream",
     "text": [
      "100%|█████████████████████████████████████████████████████████████████████████████████████████████████████████████████████████████████████████████████████████████████████████████████████████████████| 15/15 [04:02<00:00, 16.17s/it]\n"
     ]
    },
    {
     "name": "stdout",
     "output_type": "stream",
     "text": [
      "Current time: 2024-06-05 01:43:42.258512\n",
      "\tLoss: 227.093 , R2: 0.088\n",
      "\tTraining time (model/function): (1187.922s / 242.624s)\n",
      "\t\tper epoch (model/function): (84.852s/ 17.330s)\n",
      "\t\tper 1k samples: 53.324s\n",
      "best loss 227.093\n",
      "last five r2 values, by sequential filter optimization: ['0.081', '0.088']\n",
      "('etas corr with lib_sizes (before refinement)', SignificanceResult(statistic=0.9998439794291893, pvalue=1.3182763122274082e-173))\n",
      "optimizing feature type dinuc\n",
      "the optimization of dinucleotide features is skipped...\n",
      "current kernel 150\n",
      "\n",
      "### next filter to optimize 150 \n",
      "\n",
      "FREEZING KERNELS\n",
      "optimizing feature type mono\n",
      "next kernels {150, 151, 152, 153, 154, 155, 156, 157, 158, 159, 160, 161, 162, 163, 164, 165, 166, 167, 168, 169, 170, 171, 172, 173, 174, 175, 176, 177, 178, 179, 180, 181, 182, 183, 184, 185, 186, 187, 188, 189, 190, 191, 192, 193, 194, 195, 196, 197, 198, 199}\n",
      "filters mask None\n",
      "optimizer:  Adam , criterion: PoissonLoss \n",
      "epochs: 15 \n",
      "early_stopping: 250\n",
      "lr= 0.01, weight_decay= 0, dir weight= 0\n"
     ]
    },
    {
     "name": "stderr",
     "output_type": "stream",
     "text": [
      "100%|█████████████████████████████████████████████████████████████████████████████████████████████████████████████████████████████████████████████████████████████████████████████████████████████████| 15/15 [03:43<00:00, 14.89s/it]\n"
     ]
    },
    {
     "name": "stdout",
     "output_type": "stream",
     "text": [
      "Current time: 2024-06-05 01:48:11.152913\n",
      "\tLoss: 221.720 , R2: 0.093\n",
      "\tTraining time (model/function): (1411.294s / 223.372s)\n",
      "\t\tper epoch (model/function): (100.807s/ 15.955s)\n",
      "\t\tper 1k samples: 49.093s\n",
      "('etas corr with lib_sizes (before refinement)', SignificanceResult(statistic=0.9998439794291893, pvalue=1.3182763122274082e-173))\n",
      "\n",
      "\n",
      "final refinement step (after shift)...unfreezing all layers\n",
      "optimizer:  Adam , criterion: PoissonLoss \n",
      "epochs: 15 \n",
      "early_stopping: 250\n",
      "lr= 0.01, weight_decay= 0, dir weight= 0\n"
     ]
    },
    {
     "name": "stderr",
     "output_type": "stream",
     "text": [
      "100%|█████████████████████████████████████████████████████████████████████████████████████████████████████████████████████████████████████████████████████████████████████████████████████████████████| 15/15 [04:11<00:00, 16.76s/it]\n"
     ]
    },
    {
     "name": "stdout",
     "output_type": "stream",
     "text": [
      "Current time: 2024-06-05 01:52:45.774065\n",
      "\tLoss: 209.348 , R2: 0.093\n",
      "\tTraining time (model/function): (1662.686s / 251.392s)\n",
      "\t\tper epoch (model/function): (118.763s/ 17.957s)\n",
      "\t\tper 1k samples: 55.251s\n",
      "best loss 209.348\n",
      "last five r2 values, by sequential filter optimization: ['0.081', '0.088', '0.093']\n",
      "('etas corr with lib_sizes (before refinement)', SignificanceResult(statistic=0.9998439794291893, pvalue=1.3182763122274082e-173))\n",
      "optimizing feature type dinuc\n",
      "the optimization of dinucleotide features is skipped...\n",
      "current kernel 200\n",
      "\n",
      "### next filter to optimize 200 \n",
      "\n",
      "FREEZING KERNELS\n",
      "optimizing feature type mono\n",
      "next kernels {200, 201, 202, 203, 204, 205, 206, 207, 208, 209, 210, 211, 212, 213, 214, 215, 216, 217, 218, 219, 220, 221, 222, 223, 224, 225, 226, 227, 228, 229, 230, 231, 232, 233, 234, 235, 236, 237, 238, 239, 240, 241, 242, 243, 244, 245, 246, 247, 248, 249}\n",
      "filters mask None\n",
      "optimizer:  Adam , criterion: PoissonLoss \n",
      "epochs: 15 \n",
      "early_stopping: 250\n",
      "lr= 0.01, weight_decay= 0, dir weight= 0\n"
     ]
    },
    {
     "name": "stderr",
     "output_type": "stream",
     "text": [
      "100%|█████████████████████████████████████████████████████████████████████████████████████████████████████████████████████████████████████████████████████████████████████████████████████████████████| 15/15 [03:44<00:00, 14.98s/it]\n"
     ]
    },
    {
     "name": "stdout",
     "output_type": "stream",
     "text": [
      "Current time: 2024-06-05 01:57:15.948212\n",
      "\tLoss: 205.266 , R2: 0.095\n",
      "\tTraining time (model/function): (1887.343s / 224.657s)\n",
      "\t\tper epoch (model/function): (134.810s/ 16.047s)\n",
      "\t\tper 1k samples: 49.375s\n",
      "('etas corr with lib_sizes (before refinement)', SignificanceResult(statistic=0.9998439794291893, pvalue=1.3182763122274082e-173))\n",
      "\n",
      "\n",
      "final refinement step (after shift)...unfreezing all layers\n",
      "optimizer:  Adam , criterion: PoissonLoss \n",
      "epochs: 15 \n",
      "early_stopping: 250\n",
      "lr= 0.01, weight_decay= 0, dir weight= 0\n"
     ]
    },
    {
     "name": "stderr",
     "output_type": "stream",
     "text": [
      "100%|█████████████████████████████████████████████████████████████████████████████████████████████████████████████████████████████████████████████████████████████████████████████████████████████████| 15/15 [04:04<00:00, 16.29s/it]\n"
     ]
    },
    {
     "name": "stdout",
     "output_type": "stream",
     "text": [
      "Current time: 2024-06-05 02:01:42.425118\n",
      "\tLoss: 194.360 , R2: 0.095\n",
      "\tTraining time (model/function): (2131.767s / 244.424s)\n",
      "\t\tper epoch (model/function): (152.269s/ 17.459s)\n",
      "\t\tper 1k samples: 53.719s\n",
      "best loss 194.360\n",
      "last five r2 values, by sequential filter optimization: ['0.081', '0.088', '0.093', '0.095']\n",
      "('etas corr with lib_sizes (before refinement)', SignificanceResult(statistic=0.9998439794291893, pvalue=1.3182763122274082e-173))\n",
      "optimizing feature type dinuc\n",
      "the optimization of dinucleotide features is skipped...\n",
      "current kernel 250\n",
      "\n",
      "### next filter to optimize 250 \n",
      "\n",
      "FREEZING KERNELS\n",
      "optimizing feature type mono\n",
      "next kernels {256, 257, 258, 259, 260, 261, 262, 263, 264, 265, 266, 267, 268, 269, 270, 271, 272, 273, 274, 275, 276, 277, 278, 279, 280, 281, 282, 283, 284, 285, 286, 287, 288, 289, 290, 291, 292, 293, 294, 295, 296, 297, 298, 299, 250, 251, 252, 253, 254, 255}\n",
      "filters mask None\n",
      "optimizer:  Adam , criterion: PoissonLoss \n",
      "epochs: 15 \n",
      "early_stopping: 250\n",
      "lr= 0.01, weight_decay= 0, dir weight= 0\n"
     ]
    },
    {
     "name": "stderr",
     "output_type": "stream",
     "text": [
      "100%|█████████████████████████████████████████████████████████████████████████████████████████████████████████████████████████████████████████████████████████████████████████████████████████████████| 15/15 [03:44<00:00, 14.95s/it]\n"
     ]
    },
    {
     "name": "stdout",
     "output_type": "stream",
     "text": [
      "Current time: 2024-06-05 02:06:10.972634\n",
      "\tLoss: 191.802 , R2: 0.097\n",
      "\tTraining time (model/function): (2355.957s / 224.190s)\n",
      "\t\tper epoch (model/function): (168.283s/ 16.014s)\n",
      "\t\tper 1k samples: 49.273s\n",
      "('etas corr with lib_sizes (before refinement)', SignificanceResult(statistic=0.9998439794291893, pvalue=1.3182763122274082e-173))\n",
      "\n",
      "\n",
      "final refinement step (after shift)...unfreezing all layers\n",
      "optimizer:  Adam , criterion: PoissonLoss \n",
      "epochs: 15 \n",
      "early_stopping: 250\n",
      "lr= 0.01, weight_decay= 0, dir weight= 0\n"
     ]
    },
    {
     "name": "stderr",
     "output_type": "stream",
     "text": [
      "100%|█████████████████████████████████████████████████████████████████████████████████████████████████████████████████████████████████████████████████████████████████████████████████████████████████| 15/15 [03:57<00:00, 15.83s/it]\n"
     ]
    },
    {
     "name": "stdout",
     "output_type": "stream",
     "text": [
      "Current time: 2024-06-05 02:10:30.720679\n",
      "\tLoss: 182.385 , R2: 0.097\n",
      "\tTraining time (model/function): (2593.477s / 237.520s)\n",
      "\t\tper epoch (model/function): (185.248s/ 16.966s)\n",
      "\t\tper 1k samples: 52.202s\n",
      "best loss 182.385\n",
      "last five r2 values, by sequential filter optimization: ['0.081', '0.088', '0.093', '0.095', '0.097']\n",
      "('etas corr with lib_sizes (before refinement)', SignificanceResult(statistic=0.9998439794291893, pvalue=1.3182763122274082e-173))\n",
      "optimizing feature type dinuc\n",
      "the optimization of dinucleotide features is skipped...\n",
      "\n",
      "optimization finished:\n",
      "total time: 2593.4768364429474s\n",
      "Time per epoch (total): 0.596 s\n",
      "saving model...\n",
      "True /mnt/f/workspace/theislab/mubind/data/pbmc/episcanpy/mubind_output/obs100/pwms/running_time.pkl\n",
      "/mnt/f/workspace/theislab/mubind/data/pbmc/random/processed_laura_2023_obs100_var300.h5ad\n",
      "pbmc (100, 300)\n",
      "False /mnt/f/workspace/theislab/mubind/data/pbmc/random/mubind_output/obs100/pwms/model.pt\n",
      "False /mnt/f/workspace/theislab/mubind/data/pbmc/random/mubind_output/obs100/pwms/model_1.pt\n",
      "preparing sequences train...\n",
      "/tmp/tmpm9mkxn09\n",
      "genome hg19 False\n",
      "/mnt/c/Users/IgnacioIbarra/Dropbox/annotations/hg38/genome/hg38.fa\n",
      "True /mnt/c/Users/IgnacioIbarra/Dropbox/annotations/hg38/genome/hg38.fa\n",
      "running bedtools...\n",
      "['bedtools', 'getfasta', '-fi', '/mnt/c/Users/IgnacioIbarra/Dropbox/annotations/hg38/genome/hg38.fa', '-bed', '/tmp/tmpm9mkxn09', '-fo', '/tmp/tmpqywtib46']\n",
      "bedtools getfasta -fi /mnt/c/Users/IgnacioIbarra/Dropbox/annotations/hg38/genome/hg38.fa -bed /tmp/tmpm9mkxn09 -fo /tmp/tmpqywtib46\n",
      "preparing sequences test...\n",
      "/tmp/tmp1ydwgkdt\n",
      "genome hg19 False\n",
      "/mnt/c/Users/IgnacioIbarra/Dropbox/annotations/hg38/genome/hg38.fa\n",
      "True /mnt/c/Users/IgnacioIbarra/Dropbox/annotations/hg38/genome/hg38.fa\n",
      "running bedtools...\n",
      "['bedtools', 'getfasta', '-fi', '/mnt/c/Users/IgnacioIbarra/Dropbox/annotations/hg38/genome/hg38.fa', '-bed', '/tmp/tmp1ydwgkdt', '-fo', '/tmp/tmpg3hkxtod']\n",
      "bedtools getfasta -fi /mnt/c/Users/IgnacioIbarra/Dropbox/annotations/hg38/genome/hg38.fa -bed /tmp/tmp1ydwgkdt -fo /tmp/tmpg3hkxtod\n",
      "(100, 271) (100, 15)\n",
      "sum of reads 2777.0\n",
      "(271, 101)\n",
      "# cells 100\n",
      "# peaks 271\n",
      "selected (226, 100)\n",
      "(15, 101)\n",
      "# cells 100\n",
      "# peaks 15\n",
      "selected (11, 100)\n",
      "[15, 15, 15, 15, 15, 15, 15, 15, 15, 15, 15, 15, 15, 15, 15, 15, 15, 15, 15, 15, 15, 15, 15, 15, 15, 15, 15, 15, 15, 15, 15, 15, 15, 15, 15, 15, 15, 15, 15, 15, 15, 15, 15, 15, 15, 15, 15, 15, 15, 15, 15, 15, 15, 15, 15, 15, 15, 15, 15, 15, 15, 15, 15, 15, 15, 15, 15, 15, 15, 15, 15, 15, 15, 15, 15, 15, 15, 15, 15, 15, 15, 15, 15, 15, 15, 15, 15, 15, 15, 15, 15, 15, 15, 15, 15, 15, 15, 15, 15, 15, 15, 15, 15, 15, 15, 15, 15, 15, 15, 15, 15, 15, 15, 15, 15, 15, 15, 15, 15, 15, 15, 15, 15, 15, 15, 15, 15, 15, 15, 15, 15, 15, 15, 15, 15, 15, 15, 15, 15, 15, 15, 15, 15, 15, 15, 15, 15, 15, 15, 15, 15, 15, 15, 15, 15, 15, 15, 15, 15, 15, 15, 15, 15, 15, 15, 15, 15, 15, 15, 15, 15, 15, 15, 15, 15, 15, 15, 15, 15, 15, 15, 15, 15, 15, 15, 15, 15, 15, 15, 15, 15, 15, 15, 15, 15, 15, 15, 15, 15, 15, 15, 15, 15, 15, 15, 15, 15, 15, 15, 15, 15, 15, 15, 15, 15, 15, 15, 15, 15, 15, 15, 15, 15, 15, 15, 15, 15, 15, 15, 15, 15, 15, 15, 15, 15, 15, 15, 15, 15, 15, 15, 15, 15, 15, 15, 15, 15, 15, 15, 15, 15, 15, 15, 15, 15, 15, 15, 15, 15, 15, 15, 15, 15, 15, 15, 15, 15, 15, 15, 15, 15, 15, 15, 15, 15, 15, 15, 15, 15, 15, 15, 15, 15, 15, 15, 15, 15, 15, 15, 15]\n",
      "pbmc /mnt/f/workspace/theislab/mubind/data/pbmc/random/mubind_output/obs100/pwms/model_0.pt\n",
      "/mnt/f/workspace/theislab/mubind/data/pancreatic_endocrinogenesis/random/pancreas_multiome_2022_processed_atac_obs200_var600.h5ad\n",
      "pbmc (200, 600)\n",
      "False /mnt/f/workspace/theislab/mubind/data/pancreatic_endocrinogenesis/random/mubind_output/obs200/pwms/model.pt\n",
      "False /mnt/f/workspace/theislab/mubind/data/pancreatic_endocrinogenesis/random/mubind_output/obs200/pwms/model_1.pt\n",
      "preparing sequences train...\n",
      "/tmp/tmp0kwwg42a\n",
      "genome hg19 False\n",
      "/mnt/c/Users/IgnacioIbarra/Dropbox/annotations/hg38/genome/hg38.fa\n",
      "True /mnt/c/Users/IgnacioIbarra/Dropbox/annotations/hg38/genome/hg38.fa\n",
      "running bedtools...\n",
      "['bedtools', 'getfasta', '-fi', '/mnt/c/Users/IgnacioIbarra/Dropbox/annotations/hg38/genome/hg38.fa', '-bed', '/tmp/tmp0kwwg42a', '-fo', '/tmp/tmplx95bxk1']\n",
      "bedtools getfasta -fi /mnt/c/Users/IgnacioIbarra/Dropbox/annotations/hg38/genome/hg38.fa -bed /tmp/tmp0kwwg42a -fo /tmp/tmplx95bxk1\n"
     ]
    },
    {
     "name": "stderr",
     "output_type": "stream",
     "text": [
      "Feature (chr14:116870514-116871427) beyond the length of chr14 size (107043718 bp).  Skipping.\n",
      "Feature (chr16:90340935-90341809) beyond the length of chr16 size (90338345 bp).  Skipping.\n",
      "Feature (chr16:91330907-91331750) beyond the length of chr16 size (90338345 bp).  Skipping.\n",
      "Feature (chr16:93008921-93009760) beyond the length of chr16 size (90338345 bp).  Skipping.\n",
      "Feature (chr16:93369351-93370259) beyond the length of chr16 size (90338345 bp).  Skipping.\n",
      "Feature (chr17:84540534-84541080) beyond the length of chr17 size (83257441 bp).  Skipping.\n",
      "Feature (chr17:85571917-85572443) beyond the length of chr17 size (83257441 bp).  Skipping.\n",
      "Feature (chr17:88558130-88559015) beyond the length of chr17 size (83257441 bp).  Skipping.\n",
      "Feature (chr18:81397194-81398072) beyond the length of chr18 size (80373285 bp).  Skipping.\n",
      "Feature (chr18:82837804-82838259) beyond the length of chr18 size (80373285 bp).  Skipping.\n",
      "Feature (chr18:84784756-84785629) beyond the length of chr18 size (80373285 bp).  Skipping.\n",
      "Feature (chrX:163156963-163157865) beyond the length of chrX size (156040895 bp).  Skipping.\n",
      "Feature (chrX:165330678-165331585) beyond the length of chrX size (156040895 bp).  Skipping.\n",
      "Feature (chr17:94673666-94674556) beyond the length of chr17 size (83257441 bp).  Skipping.\n",
      "Feature (chrX:160063968-160064822) beyond the length of chrX size (156040895 bp).  Skipping.\n"
     ]
    },
    {
     "name": "stdout",
     "output_type": "stream",
     "text": [
      "preparing sequences test...\n",
      "/tmp/tmpvp9wseiz\n",
      "genome hg19 False\n",
      "/mnt/c/Users/IgnacioIbarra/Dropbox/annotations/hg38/genome/hg38.fa\n",
      "True /mnt/c/Users/IgnacioIbarra/Dropbox/annotations/hg38/genome/hg38.fa\n",
      "running bedtools...\n",
      "['bedtools', 'getfasta', '-fi', '/mnt/c/Users/IgnacioIbarra/Dropbox/annotations/hg38/genome/hg38.fa', '-bed', '/tmp/tmpvp9wseiz', '-fo', '/tmp/tmpche3wkh2']\n",
      "bedtools getfasta -fi /mnt/c/Users/IgnacioIbarra/Dropbox/annotations/hg38/genome/hg38.fa -bed /tmp/tmpvp9wseiz -fo /tmp/tmpche3wkh2\n",
      "(200, 528) (200, 28)\n",
      "sum of reads 9033.0\n",
      "(528, 201)\n",
      "# cells 200\n",
      "# peaks 528\n",
      "selected (502, 200)\n",
      "(28, 201)\n",
      "# cells 200\n",
      "# peaks 28\n",
      "selected (27, 200)\n",
      "[15, 15, 15, 15, 15, 15, 15, 15, 15, 15, 15, 15, 15, 15, 15, 15, 15, 15, 15, 15, 15, 15, 15, 15, 15, 15, 15, 15, 15, 15, 15, 15, 15, 15, 15, 15, 15, 15, 15, 15, 15, 15, 15, 15, 15, 15, 15, 15, 15, 15, 15, 15, 15, 15, 15, 15, 15, 15, 15, 15, 15, 15, 15, 15, 15, 15, 15, 15, 15, 15, 15, 15, 15, 15, 15, 15, 15, 15, 15, 15, 15, 15, 15, 15, 15, 15, 15, 15, 15, 15, 15, 15, 15, 15, 15, 15, 15, 15, 15, 15, 15, 15, 15, 15, 15, 15, 15, 15, 15, 15, 15, 15, 15, 15, 15, 15, 15, 15, 15, 15, 15, 15, 15, 15, 15, 15, 15, 15, 15, 15, 15, 15, 15, 15, 15, 15, 15, 15, 15, 15, 15, 15, 15, 15, 15, 15, 15, 15, 15, 15, 15, 15, 15, 15, 15, 15, 15, 15, 15, 15, 15, 15, 15, 15, 15, 15, 15, 15, 15, 15, 15, 15, 15, 15, 15, 15, 15, 15, 15, 15, 15, 15, 15, 15, 15, 15, 15, 15, 15, 15, 15, 15, 15, 15, 15, 15, 15, 15, 15, 15, 15, 15, 15, 15, 15, 15, 15, 15, 15, 15, 15, 15, 15, 15, 15, 15, 15, 15, 15, 15, 15, 15, 15, 15, 15, 15, 15, 15, 15, 15, 15, 15, 15, 15, 15, 15, 15, 15, 15, 15, 15, 15, 15, 15, 15, 15, 15, 15, 15, 15, 15, 15, 15, 15, 15, 15, 15, 15, 15, 15, 15, 15, 15, 15, 15, 15, 15, 15, 15, 15, 15, 15, 15, 15, 15, 15, 15, 15, 15, 15, 15, 15, 15, 15, 15, 15, 15, 15, 15, 15]\n",
      "pbmc /mnt/f/workspace/theislab/mubind/data/pancreatic_endocrinogenesis/random/mubind_output/obs200/pwms/model_0.pt\n",
      "/mnt/f/workspace/theislab/mubind/data/pancreatic_endocrinogenesis/episcanpy/pancreas_multiome_2022_processed_atac_obs200_var600.h5ad\n",
      "pbmc (200, 638)\n",
      "False /mnt/f/workspace/theislab/mubind/data/pancreatic_endocrinogenesis/episcanpy/mubind_output/obs200/pwms/model.pt\n",
      "False /mnt/f/workspace/theislab/mubind/data/pancreatic_endocrinogenesis/episcanpy/mubind_output/obs200/pwms/model_1.pt\n",
      "preparing sequences train...\n",
      "/tmp/tmpkewdyr43\n",
      "genome hg19 False\n",
      "/mnt/c/Users/IgnacioIbarra/Dropbox/annotations/hg38/genome/hg38.fa\n",
      "True /mnt/c/Users/IgnacioIbarra/Dropbox/annotations/hg38/genome/hg38.fa\n",
      "running bedtools...\n",
      "['bedtools', 'getfasta', '-fi', '/mnt/c/Users/IgnacioIbarra/Dropbox/annotations/hg38/genome/hg38.fa', '-bed', '/tmp/tmpkewdyr43', '-fo', '/tmp/tmpxlvo7wjf']\n",
      "bedtools getfasta -fi /mnt/c/Users/IgnacioIbarra/Dropbox/annotations/hg38/genome/hg38.fa -bed /tmp/tmpkewdyr43 -fo /tmp/tmpxlvo7wjf\n"
     ]
    },
    {
     "name": "stderr",
     "output_type": "stream",
     "text": [
      "Feature (chr13:119488017-119488910) beyond the length of chr13 size (114364328 bp).  Skipping.\n",
      "Feature (chr14:121878090-121878997) beyond the length of chr14 size (107043718 bp).  Skipping.\n",
      "Feature (chr15:102721758-102722660) beyond the length of chr15 size (101991189 bp).  Skipping.\n",
      "Feature (chr16:90810027-90810905) beyond the length of chr16 size (90338345 bp).  Skipping.\n",
      "Feature (chr16:97763297-97764157) beyond the length of chr16 size (90338345 bp).  Skipping.\n",
      "Feature (chr17:83350470-83351357) beyond the length of chr17 size (83257441 bp).  Skipping.\n",
      "Feature (chr17:84465754-84466657) beyond the length of chr17 size (83257441 bp).  Skipping.\n",
      "Feature (chr18:80707677-80708602) beyond the length of chr18 size (80373285 bp).  Skipping.\n",
      "Feature (chr18:84588877-84589788) beyond the length of chr18 size (80373285 bp).  Skipping.\n"
     ]
    },
    {
     "name": "stdout",
     "output_type": "stream",
     "text": [
      "preparing sequences test...\n",
      "/tmp/tmp8qnk1nig\n",
      "genome hg19 False\n",
      "/mnt/c/Users/IgnacioIbarra/Dropbox/annotations/hg38/genome/hg38.fa\n",
      "True /mnt/c/Users/IgnacioIbarra/Dropbox/annotations/hg38/genome/hg38.fa\n",
      "running bedtools...\n",
      "['bedtools', 'getfasta', '-fi', '/mnt/c/Users/IgnacioIbarra/Dropbox/annotations/hg38/genome/hg38.fa', '-bed', '/tmp/tmp8qnk1nig', '-fo', '/tmp/tmpzv4991hh']\n",
      "bedtools getfasta -fi /mnt/c/Users/IgnacioIbarra/Dropbox/annotations/hg38/genome/hg38.fa -bed /tmp/tmp8qnk1nig -fo /tmp/tmpzv4991hh\n",
      "(200, 567) (200, 31)\n",
      "sum of reads 90106.0\n",
      "(567, 201)\n",
      "# cells 200\n",
      "# peaks 567\n",
      "selected (567, 200)\n",
      "(31, 201)\n",
      "# cells 200\n",
      "# peaks 31\n",
      "selected (31, 200)\n",
      "[15, 15, 15, 15, 15, 15, 15, 15, 15, 15, 15, 15, 15, 15, 15, 15, 15, 15, 15, 15, 15, 15, 15, 15, 15, 15, 15, 15, 15, 15, 15, 15, 15, 15, 15, 15, 15, 15, 15, 15, 15, 15, 15, 15, 15, 15, 15, 15, 15, 15, 15, 15, 15, 15, 15, 15, 15, 15, 15, 15, 15, 15, 15, 15, 15, 15, 15, 15, 15, 15, 15, 15, 15, 15, 15, 15, 15, 15, 15, 15, 15, 15, 15, 15, 15, 15, 15, 15, 15, 15, 15, 15, 15, 15, 15, 15, 15, 15, 15, 15, 15, 15, 15, 15, 15, 15, 15, 15, 15, 15, 15, 15, 15, 15, 15, 15, 15, 15, 15, 15, 15, 15, 15, 15, 15, 15, 15, 15, 15, 15, 15, 15, 15, 15, 15, 15, 15, 15, 15, 15, 15, 15, 15, 15, 15, 15, 15, 15, 15, 15, 15, 15, 15, 15, 15, 15, 15, 15, 15, 15, 15, 15, 15, 15, 15, 15, 15, 15, 15, 15, 15, 15, 15, 15, 15, 15, 15, 15, 15, 15, 15, 15, 15, 15, 15, 15, 15, 15, 15, 15, 15, 15, 15, 15, 15, 15, 15, 15, 15, 15, 15, 15, 15, 15, 15, 15, 15, 15, 15, 15, 15, 15, 15, 15, 15, 15, 15, 15, 15, 15, 15, 15, 15, 15, 15, 15, 15, 15, 15, 15, 15, 15, 15, 15, 15, 15, 15, 15, 15, 15, 15, 15, 15, 15, 15, 15, 15, 15, 15, 15, 15, 15, 15, 15, 15, 15, 15, 15, 15, 15, 15, 15, 15, 15, 15, 15, 15, 15, 15, 15, 15, 15, 15, 15, 15, 15, 15, 15, 15, 15, 15, 15, 15, 15, 15, 15, 15, 15, 15, 15]\n",
      "pbmc /mnt/f/workspace/theislab/mubind/data/pancreatic_endocrinogenesis/episcanpy/mubind_output/obs200/pwms/model_0.pt\n",
      "/mnt/f/workspace/theislab/mubind/data/pancreatic_endocrinogenesis/episcanpy/pancreas_multiome_2022_processed_atac_obs300_var900.h5ad\n",
      "pbmc (300, 924)\n",
      "False /mnt/f/workspace/theislab/mubind/data/pancreatic_endocrinogenesis/episcanpy/mubind_output/obs300/pwms/model.pt\n",
      "False /mnt/f/workspace/theislab/mubind/data/pancreatic_endocrinogenesis/episcanpy/mubind_output/obs300/pwms/model_1.pt\n",
      "preparing sequences train...\n",
      "/tmp/tmpc0bkbkyf\n",
      "genome hg19 False\n",
      "/mnt/c/Users/IgnacioIbarra/Dropbox/annotations/hg38/genome/hg38.fa\n",
      "True /mnt/c/Users/IgnacioIbarra/Dropbox/annotations/hg38/genome/hg38.fa\n",
      "running bedtools...\n",
      "['bedtools', 'getfasta', '-fi', '/mnt/c/Users/IgnacioIbarra/Dropbox/annotations/hg38/genome/hg38.fa', '-bed', '/tmp/tmpc0bkbkyf', '-fo', '/tmp/tmpdma9_wmg']\n",
      "bedtools getfasta -fi /mnt/c/Users/IgnacioIbarra/Dropbox/annotations/hg38/genome/hg38.fa -bed /tmp/tmpc0bkbkyf -fo /tmp/tmpdma9_wmg\n"
     ]
    },
    {
     "name": "stderr",
     "output_type": "stream",
     "text": [
      "Feature (chr13:119408725-119409719) beyond the length of chr13 size (114364328 bp).  Skipping.\n",
      "Feature (chr14:115041769-115042655) beyond the length of chr14 size (107043718 bp).  Skipping.\n",
      "Feature (chr14:122104543-122105449) beyond the length of chr14 size (107043718 bp).  Skipping.\n",
      "Feature (chr14:122106704-122107546) beyond the length of chr14 size (107043718 bp).  Skipping.\n",
      "Feature (chr15:102279025-102279932) beyond the length of chr15 size (101991189 bp).  Skipping.\n",
      "Feature (chr15:102670633-102671518) beyond the length of chr15 size (101991189 bp).  Skipping.\n",
      "Feature (chr15:102721758-102722660) beyond the length of chr15 size (101991189 bp).  Skipping.\n",
      "Feature (chr15:103304875-103305793) beyond the length of chr15 size (101991189 bp).  Skipping.\n",
      "Feature (chr16:90810027-90810905) beyond the length of chr16 size (90338345 bp).  Skipping.\n",
      "Feature (chr16:92057738-92058674) beyond the length of chr16 size (90338345 bp).  Skipping.\n",
      "Feature (chr16:93603438-93604351) beyond the length of chr16 size (90338345 bp).  Skipping.\n",
      "Feature (chr16:95990473-95991375) beyond the length of chr16 size (90338345 bp).  Skipping.\n",
      "Feature (chr17:86962741-86963615) beyond the length of chr17 size (83257441 bp).  Skipping.\n",
      "Feature (chr17:87974606-87975432) beyond the length of chr17 size (83257441 bp).  Skipping.\n",
      "Feature (chr18:84087499-84088394) beyond the length of chr18 size (80373285 bp).  Skipping.\n",
      "Feature (chr18:84588877-84589788) beyond the length of chr18 size (80373285 bp).  Skipping.\n",
      "Feature (chr18:90509727-90510656) beyond the length of chr18 size (80373285 bp).  Skipping.\n",
      "Feature (chr19:58943073-58943976) beyond the length of chr19 size (58617616 bp).  Skipping.\n",
      "Feature (chrX:162759869-162760740) beyond the length of chrX size (156040895 bp).  Skipping.\n",
      "Feature (chrX:163908524-163909453) beyond the length of chrX size (156040895 bp).  Skipping.\n"
     ]
    },
    {
     "name": "stdout",
     "output_type": "stream",
     "text": [
      "preparing sequences test...\n",
      "/tmp/tmp2mq15og_\n",
      "genome hg19 False\n",
      "/mnt/c/Users/IgnacioIbarra/Dropbox/annotations/hg38/genome/hg38.fa\n",
      "True /mnt/c/Users/IgnacioIbarra/Dropbox/annotations/hg38/genome/hg38.fa\n",
      "running bedtools...\n",
      "['bedtools', 'getfasta', '-fi', '/mnt/c/Users/IgnacioIbarra/Dropbox/annotations/hg38/genome/hg38.fa', '-bed', '/tmp/tmp2mq15og_', '-fo', '/tmp/tmpe7p13z4h']\n",
      "bedtools getfasta -fi /mnt/c/Users/IgnacioIbarra/Dropbox/annotations/hg38/genome/hg38.fa -bed /tmp/tmp2mq15og_ -fo /tmp/tmpe7p13z4h\n",
      "(300, 812) (300, 46)\n",
      "sum of reads 185166.0\n",
      "(812, 301)\n",
      "# cells 300\n",
      "# peaks 812\n",
      "selected (812, 300)\n",
      "(46, 301)\n",
      "# cells 300\n",
      "# peaks 46\n",
      "selected (46, 300)\n",
      "[15, 15, 15, 15, 15, 15, 15, 15, 15, 15, 15, 15, 15, 15, 15, 15, 15, 15, 15, 15, 15, 15, 15, 15, 15, 15, 15, 15, 15, 15, 15, 15, 15, 15, 15, 15, 15, 15, 15, 15, 15, 15, 15, 15, 15, 15, 15, 15, 15, 15, 15, 15, 15, 15, 15, 15, 15, 15, 15, 15, 15, 15, 15, 15, 15, 15, 15, 15, 15, 15, 15, 15, 15, 15, 15, 15, 15, 15, 15, 15, 15, 15, 15, 15, 15, 15, 15, 15, 15, 15, 15, 15, 15, 15, 15, 15, 15, 15, 15, 15, 15, 15, 15, 15, 15, 15, 15, 15, 15, 15, 15, 15, 15, 15, 15, 15, 15, 15, 15, 15, 15, 15, 15, 15, 15, 15, 15, 15, 15, 15, 15, 15, 15, 15, 15, 15, 15, 15, 15, 15, 15, 15, 15, 15, 15, 15, 15, 15, 15, 15, 15, 15, 15, 15, 15, 15, 15, 15, 15, 15, 15, 15, 15, 15, 15, 15, 15, 15, 15, 15, 15, 15, 15, 15, 15, 15, 15, 15, 15, 15, 15, 15, 15, 15, 15, 15, 15, 15, 15, 15, 15, 15, 15, 15, 15, 15, 15, 15, 15, 15, 15, 15, 15, 15, 15, 15, 15, 15, 15, 15, 15, 15, 15, 15, 15, 15, 15, 15, 15, 15, 15, 15, 15, 15, 15, 15, 15, 15, 15, 15, 15, 15, 15, 15, 15, 15, 15, 15, 15, 15, 15, 15, 15, 15, 15, 15, 15, 15, 15, 15, 15, 15, 15, 15, 15, 15, 15, 15, 15, 15, 15, 15, 15, 15, 15, 15, 15, 15, 15, 15, 15, 15, 15, 15, 15, 15, 15, 15, 15, 15, 15, 15, 15, 15, 15, 15, 15, 15, 15, 15]\n",
      "pbmc /mnt/f/workspace/theislab/mubind/data/pancreatic_endocrinogenesis/episcanpy/mubind_output/obs300/pwms/model_0.pt\n",
      "\n",
      "optimize log dynamics False\n",
      "# motifs loaded 2179\n",
      "True\n",
      "12\n",
      "order None\n",
      "0 out of 288...\n"
     ]
    }
   ],
   "source": [
    "res = []\n",
    "import numpy as np\n",
    "import pickle\n",
    "n_epochs_intercept = 15\n",
    "n_epochs_kernel = 15\n",
    "overwrite = False\n",
    "overwrite_train = False\n",
    "log_each=75\n",
    "n_unfreeze_kernels=50\n",
    "\n",
    "n_missing = 0\n",
    "\n",
    "for ri, r in queries.sort_values('n_obs').iterrows():\n",
    "# for k in path_by_dataset:\n",
    "#     for ad_path in glob.glob(path_by_dataset[k]):\n",
    "    # if not '_obs100_' in ad_path: #  and not '_obs200_' in ad_path: #  or not '/random/' in ad_path:\n",
    "    #     continue\n",
    "\n",
    "    ad_path = r['path']\n",
    "\n",
    "    n_cells = ad_path.split('_')[-2]\n",
    "    print(ad_path)\n",
    "\n",
    "    # assert False\n",
    "    # print('reading anndata', ad_path)\n",
    "\n",
    "    # print(ad_path)\n",
    "    # continue\n",
    "\n",
    "    adata = sc.read_h5ad(ad_path)\n",
    "    print(k, adata.shape)\n",
    "    # if neighbors are not present in the file, we have to include them\n",
    "    if not 'neighbors' in adata.uns:\n",
    "        if 'int' in str(adata.X.dtype):\n",
    "            adata.X = adata.X.astype(float)\n",
    "        sc.pp.neighbors(adata, method='rapids')\n",
    "\n",
    "    scbasset_split_file = os.path.join(os.path.dirname(ad_path), 'scbasset_input', n_cells, 'splits.h5')\n",
    "    scbasset_ad_path = os.path.join(os.path.dirname(ad_path), 'scbasset_input', n_cells, 'ad.h5ad')\n",
    "\n",
    "\n",
    "    if not os.path.exists(scbasset_ad_path):\n",
    "        print('ad path not found. Next')\n",
    "        continue\n",
    "\n",
    "    mubind_outdir = os.path.join(os.path.dirname(ad_path), 'mubind_output', n_cells)\n",
    "    if not os.path.exists(mubind_outdir):\n",
    "        os.makedirs(mubind_outdir)\n",
    "    \n",
    "    for use_pwms, lab in zip([True, False], ['pwms', 'denovo']):\n",
    "        if lab != 'pwms':\n",
    "            continue\n",
    "        \n",
    "        next_outdir = os.path.join(mubind_outdir, lab)\n",
    "        if not os.path.exists(next_outdir):\n",
    "            os.makedirs(next_outdir)\n",
    "        \n",
    "        model_path = os.path.join(next_outdir, 'model.pt')\n",
    "        print(os.path.exists(model_path), model_path)\n",
    "\n",
    "        model_path_logdyn_true = model_path.replace('.pt', '_1.pt')\n",
    "\n",
    "        print(os.path.exists(model_path_logdyn_true), model_path_logdyn_true)\n",
    "\n",
    "        # assert False\n",
    "        if not os.path.exists(model_path_logdyn_true):\n",
    "            n_missing += 1\n",
    "    \n",
    "        if not os.path.exists(model_path_logdyn_true) or overwrite:\n",
    "            adata_train, train, test = prepare_mubind_input(scbasset_ad_path,\n",
    "                                                            adata,\n",
    "                                                            k,\n",
    "                                                            scbasset_split_file)\n",
    "\n",
    "            model_by_logdynamic = {}\n",
    "            n_filters = 5 if lab == 'denovo' else 288\n",
    "            opt_kernel_shift=[0, 0] + [0] * (n_filters)\n",
    "            opt_kernel_length=[0, 0] + [0] * (n_filters)\n",
    "            kernels=[0] + [2] + [20] * (n_filters)\n",
    "\n",
    "            w = [10 for r in range(n_filters)]\n",
    "            epochs = [n_epochs_intercept] + [n_epochs_kernel] * (n_filters + 1)\n",
    "            print(epochs)\n",
    "            # skip_kernels=range(5, 500) do not skip kernels\n",
    "            opt_kernel_shift=[0, 0] + [0] * (n_filters)\n",
    "\n",
    "            for optimize_log_dynamic in [False,]: #  True]: #  True]:\n",
    "\n",
    "                # save model\n",
    "                next_model_path = model_path.replace('.pt', '_%i.pt' % optimize_log_dynamic)\n",
    "                print(k, next_model_path)\n",
    "\n",
    "                if not os.path.exists(next_model_path) or overwrite_train:\n",
    "                    print('')\n",
    "                    print('optimize log dynamics', optimize_log_dynamic)\n",
    "                    warnings.filterwarnings(\"ignore\")\n",
    "\n",
    "                    criterion = mb.tl.PoissonLoss()\n",
    "                    # w = [r.shape[1] for r in pwms]\n",
    "\n",
    "                    if use_pwms:\n",
    "                        pwms = mb.datasets.archetypes()\n",
    "                        w = [r.shape[1] for r in pwms]\n",
    "\n",
    "                    model = mb.models.Mubind.make_model(train,\n",
    "                                                        n_filters,\n",
    "                                                        criterion,\n",
    "                                                        kernels=[0, 2] + w,\n",
    "                                                        # use_dinuc=True, dinuc_mode='full',\n",
    "                                                        optimize_sym_weight=False,\n",
    "                                                        optimize_exp_barrier=True,\n",
    "                                                        optimize_prob_act=True,\n",
    "                                                        optimize_log_dynamic=optimize_log_dynamic,\n",
    "                                                        use_dinuc=False,\n",
    "                                                        device=device,\n",
    "                                                        log_each=log_each,\n",
    "                                                        p_dropout=None, # 0.8,\n",
    "                                                        adata=adata_train if optimize_log_dynamic else None,\n",
    "                                                        prepare_knn=optimize_log_dynamic,\n",
    "                                                        dinuc_mode=None).cuda()\n",
    "                    \n",
    "\n",
    "                    if use_pwms:\n",
    "                        # initialize the reduce kernels\n",
    "                        for i, mono_best in enumerate(pwms):\n",
    "                            mono_best = mono_best.to_numpy()\n",
    "                            if mono_best.shape[-1] == 0:\n",
    "                                continue\n",
    "                            # print(mono_best.shape, model.binding_modes.conv_mono[i + 1].weight.shape)\n",
    "                            # print(model.binding_modes.conv_mono[i + 1].weight.device)\n",
    "                            new_w = mono_best.reshape([1, 1] + list(mono_best.shape))\n",
    "                            # print(i, i + 1)\n",
    "                            model.binding_modes.conv_mono[i + 2].weight = torch.nn.Parameter(torch.tensor(new_w, dtype=torch.float))\n",
    "                            # print(model.binding_modes.conv_mono[i + 1].weight.device)\n",
    "                        # move the model a final time to the GPU\n",
    "                        model = model.to(device)\n",
    "\n",
    "                    mb.pl.set_rcParams({'figure.figsize': [15, 3], 'figure.dpi': 90})\n",
    "                    mb.pl.logo(model,\n",
    "                            title=False,\n",
    "                            xticks=False,\n",
    "                            rowspan_dinuc=0,\n",
    "                            rowspan_mono=1,\n",
    "                            n_rows=5,\n",
    "                            n_cols=12,\n",
    "                            stop_at=10   ) # n_cols=len(reduced_groups))\n",
    "                        \n",
    "                    mb.pl.set_rcParams({'figure.figsize': [20, 5], 'figure.dpi': 100})\n",
    "\n",
    "                    # mb.pl.conv(model, n_cols=2)\n",
    "                    import torch.nn as tnn\n",
    "\n",
    "                    if optimize_log_dynamic:\n",
    "                        model.graph_module.conn_sparse = torch.tensor(adata[adata_train.obs_names,:].obsp['connectivities'].A).to_sparse().requires_grad_(True).cuda()\n",
    "                        model.graph_module.log_dynamic = tnn.Parameter(torch.rand(model.graph_module.conn_sparse.indices().shape[1])) # .cuda()\n",
    "                        model = model.cuda()\n",
    "                        model.graph_module.log_dynamic.shape\n",
    "\n",
    "\n",
    "                    import datetime\n",
    "                    t1 = datetime.datetime.now()\n",
    "                    model, best_loss = model.optimize_iterative(train,\n",
    "                                                                n_epochs=epochs,\n",
    "                                                                show_logo=False,\n",
    "                                                                use_mono=True,\n",
    "                                                                use_dinuc=False,\n",
    "                                                                dinuc_mode='local',\n",
    "                                                                opt_kernel_shift=opt_kernel_shift,\n",
    "                                                                opt_kernel_length=opt_kernel_length,\n",
    "                                                                opt_one_step=True,\n",
    "                                                                shift_max=1,\n",
    "                                                                shift_step=1,\n",
    "                                                                optimiser=topti.Adam,\n",
    "                                                                n_batches=1,\n",
    "                                                                n_rounds=2,\n",
    "                                                                num_epochs_shift_factor=1,\n",
    "                                                                r2_per_epoch=True,\n",
    "                                                                kernels=kernels,\n",
    "                                                                n_unfreeze_kernels=n_unfreeze_kernels,\n",
    "                                                                skip_kernels=None, # skip_kernels,\n",
    "                                                                exp_max=8,\n",
    "                                                                early_stopping=250,\n",
    "                                                                log_each=log_each,\n",
    "                                                                w=20,\n",
    "                                                                max_w=20) #  target_dim=train.dataset.signal.shape[1])\n",
    "\n",
    "                    t2 = datetime.datetime.now()\n",
    "\n",
    "                    torch.save(model, next_model_path)\n",
    "                    model_by_logdynamic[optimize_log_dynamic] = model\n",
    "\n",
    "                    print('saving model...')\n",
    "                    outpath_time = os.path.join(next_outdir, 'running_time.pkl')\n",
    "                    time_diff = (t2 - t1)\n",
    "                    pickle.dump(time_diff, open(outpath_time, 'wb'))\n",
    "                    print(os.path.exists(outpath_time), outpath_time)\n",
    "                    \n",
    "                else:\n",
    "                    model = torch.load(next_model_path)\n",
    "\n",
    "                roc_auc_train, roc_auc_test = utils.get_auroc(model, train), utils.get_auroc(model, test)\n",
    "                auprc_train, auprc_test = utils.get_auprc(model, train), utils.get_auprc(model, test)\n",
    "                res.append([k, optimize_log_dynamic, 'train', 'roc_auc', roc_auc_train])\n",
    "                res.append([k, optimize_log_dynamic, 'test', 'roc_auc', roc_auc_test])\n",
    "                res.append([k, optimize_log_dynamic, 'train', 'pr_auc', auprc_train])\n",
    "                res.append([k, optimize_log_dynamic, 'test', 'pr_auc', auprc_test])\n",
    "            \n",
    "            import pandas as pd\n",
    "            df = pd.DataFrame(res, columns=['dataset', 'log_dynamic', 'group', 'metric', 'value'])\n",
    "            df.to_csv(model_path.replace('.pt', '.csv'))\n",
    "\n",
    "print(n_missing)"
   ]
  },
  {
   "cell_type": "code",
   "execution_count": null,
   "metadata": {},
   "outputs": [],
   "source": []
  },
  {
   "cell_type": "code",
   "execution_count": null,
   "metadata": {},
   "outputs": [
    {
     "data": {
      "text/plain": [
       "'0.10.7'"
      ]
     },
     "execution_count": 10,
     "metadata": {},
     "output_type": "execute_result"
    }
   ],
   "source": [
    "import anndata\n",
    "anndata.__version__"
   ]
  }
 ],
 "metadata": {
  "kernelspec": {
   "display_name": "mubind",
   "language": "python",
   "name": "mubind"
  },
  "language_info": {
   "codemirror_mode": {
    "name": "ipython",
    "version": 3
   },
   "file_extension": ".py",
   "mimetype": "text/x-python",
   "name": "python",
   "nbconvert_exporter": "python",
   "pygments_lexer": "ipython3",
   "version": "3.9.16"
  },
  "orig_nbformat": 4
 },
 "nbformat": 4,
 "nbformat_minor": 2
}
