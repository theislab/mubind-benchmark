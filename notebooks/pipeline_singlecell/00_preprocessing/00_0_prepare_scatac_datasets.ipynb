{
 "cells": [
  {
   "cell_type": "code",
   "execution_count": 1,
   "metadata": {},
   "outputs": [],
   "source": [
    "import scanpy as sc"
   ]
  },
  {
   "cell_type": "code",
   "execution_count": 2,
   "metadata": {},
   "outputs": [],
   "source": [
    "import rapids_singlecell as rapids"
   ]
  },
  {
   "cell_type": "code",
   "execution_count": 3,
   "metadata": {},
   "outputs": [],
   "source": [
    "import sklearn"
   ]
  },
  {
   "cell_type": "code",
   "execution_count": 4,
   "metadata": {},
   "outputs": [
    {
     "data": {
      "text/plain": [
       "'1.4.2'"
      ]
     },
     "execution_count": 4,
     "metadata": {},
     "output_type": "execute_result"
    }
   ],
   "source": [
    "sklearn.__version__"
   ]
  },
  {
   "cell_type": "code",
   "execution_count": 5,
   "metadata": {},
   "outputs": [],
   "source": [
    "# ad_path_organoids = '/mnt/f/workspace/theislab/mubind/data/organoids_treutlein_dataset/RNA_ATAC_metacells_sce_peaks.h5ad'\n",
    "ad_paths = ['/mnt/f/workspace/theislab/mubind/data/pancreatic_endocrinogenesis/pancreas_multiome_2022_processed_atac.h5ad',\n",
    "            '/mnt/f/workspace/theislab/mubind/data/noack_2022/merged_scATAC_integrated_cicero_faye_chong.h5ad',\n",
    "            '/mnt/f/workspace/theislab/mubind/data/organoids_treutlein_dataset/RNA_ATAC_metacells_sce_peaks.h5ad',\n",
    "             '/mnt/f/workspace/theislab/mubind/data/pbmc/processed_laura_2023.h5ad',\n",
    "             '/mnt/f/workspace/theislab/mubind/data/organoids_treutlein_dataset/RNA_ATAC_metacells_sce_peaks.h5ad']"
   ]
  },
  {
   "cell_type": "code",
   "execution_count": 6,
   "metadata": {},
   "outputs": [],
   "source": [
    "ad_by_path = {}"
   ]
  },
  {
   "cell_type": "code",
   "execution_count": 7,
   "metadata": {},
   "outputs": [
    {
     "data": {
      "text/plain": [
       "['/mnt/f/workspace/theislab/mubind/data/pancreatic_endocrinogenesis/pancreas_multiome_2022_processed_atac.h5ad',\n",
       " '/mnt/f/workspace/theislab/mubind/data/noack_2022/merged_scATAC_integrated_cicero_faye_chong.h5ad',\n",
       " '/mnt/f/workspace/theislab/mubind/data/organoids_treutlein_dataset/RNA_ATAC_metacells_sce_peaks.h5ad',\n",
       " '/mnt/f/workspace/theislab/mubind/data/pbmc/processed_laura_2023.h5ad',\n",
       " '/mnt/f/workspace/theislab/mubind/data/organoids_treutlein_dataset/RNA_ATAC_metacells_sce_peaks.h5ad']"
      ]
     },
     "execution_count": 7,
     "metadata": {},
     "output_type": "execute_result"
    }
   ],
   "source": [
    "ad_paths"
   ]
  },
  {
   "cell_type": "code",
   "execution_count": 8,
   "metadata": {},
   "outputs": [
    {
     "name": "stderr",
     "output_type": "stream",
     "text": [
      "<>:31: SyntaxWarning: \"is not\" with a literal. Did you mean \"!=\"?\n",
      "<>:84: SyntaxWarning: \"is not\" with a literal. Did you mean \"!=\"?\n",
      "<>:31: SyntaxWarning: \"is not\" with a literal. Did you mean \"!=\"?\n",
      "<>:84: SyntaxWarning: \"is not\" with a literal. Did you mean \"!=\"?\n",
      "/tmp/ipykernel_264460/1493364190.py:31: SyntaxWarning: \"is not\" with a literal. Did you mean \"!=\"?\n",
      "  n_sample_peaks = int(n_sample_cells * ratio_feature_over_cells) if n_sample_cells is not 'ALL' else 'ALL'\n",
      "/tmp/ipykernel_264460/1493364190.py:84: SyntaxWarning: \"is not\" with a literal. Did you mean \"!=\"?\n",
      "  if n_non_zero >= (n_sample_peaks if n_sample_peaks is not 'ALL' else adata.shape[1]):\n"
     ]
    },
    {
     "name": "stdout",
     "output_type": "stream",
     "text": [
      "\n",
      "\n",
      "False /mnt/f/workspace/theislab/mubind/data/pbmc/random/processed_laura_2023_obs100_var300.h5ad\n",
      "attempting to read\n",
      "100\n",
      "after cells selection (100, 165434)\n",
      "selection rule random\n",
      "after peaks selection (100, 300)\n",
      "sum of reads 2890.0\n",
      "WARNING: You’re trying to run this on 300 dimensions of `.X`, if you really want this, set `use_rep='X'`.\n",
      "         Falling back to preprocessing with `sc.pp.pca` and default params.\n"
     ]
    },
    {
     "name": "stderr",
     "output_type": "stream",
     "text": [
      "/home/ilibarra/.conda/envs/mubind/lib/python3.9/site-packages/tqdm/auto.py:21: TqdmWarning: IProgress not found. Please update jupyter and ipywidgets. See https://ipywidgets.readthedocs.io/en/stable/user_install.html\n",
      "  from .autonotebook import tqdm as notebook_tqdm\n"
     ]
    },
    {
     "name": "stdout",
     "output_type": "stream",
     "text": [
      "\n",
      "False /mnt/f/workspace/theislab/mubind/data/pbmc/episcanpy/processed_laura_2023_obs100_var300.h5ad\n",
      "attempting to read\n",
      "100\n",
      "after cells selection (100, 165434)\n",
      "selection rule episcanpy\n",
      "after peaks selection (100, 360)\n",
      "sum of reads 27540.0\n",
      "WARNING: You’re trying to run this on 360 dimensions of `.X`, if you really want this, set `use_rep='X'`.\n",
      "         Falling back to preprocessing with `sc.pp.pca` and default params.\n"
     ]
    }
   ],
   "source": [
    "import pandas as pd\n",
    "import os\n",
    "\n",
    "# the ratio of peaks over cells e.g. 3 : 1\n",
    "ratio_feature_over_cells = 3\n",
    "\n",
    "overwrite = False\n",
    "for ad_path in ad_paths:\n",
    "    # if not 'laura' in ad_path:\n",
    "    #     continue\n",
    "\n",
    "    if not 'pbmc' in ad_path:\n",
    "        continue\n",
    "\n",
    "    for selection in ['random', 'episcanpy']:\n",
    "        if selection == 'random':\n",
    "            print('')\n",
    "        print('')\n",
    "        # print(selection, ad_path)\n",
    "        outdir = os.path.join(os.path.dirname(ad_path), selection)\n",
    "        # print(outdir)\n",
    "        if not os.path.exists(outdir):\n",
    "            os.makedirs(outdir)\n",
    "\n",
    "        # last = False\n",
    "        for n_sample_cells in [100,]: # 200, 300,]: # 500, 1000, 2000, 5000, 10000, 'ALL']:\n",
    "\n",
    "            # if n_sample_cells == 'ALL':\n",
    "            #     continue\n",
    "\n",
    "            n_sample_peaks = int(n_sample_cells * ratio_feature_over_cells) if n_sample_cells is not 'ALL' else 'ALL'\n",
    "            adata = None\n",
    "\n",
    "            outname = os.path.basename(ad_path.replace('.h5ad', '_obs%s_var%s.h5ad' % (n_sample_cells, n_sample_peaks)))\n",
    "            outpath = os.path.join(outdir, outname)\n",
    "\n",
    "            print(os.path.exists(outpath), outpath)\n",
    "\n",
    "            # continue\n",
    "\n",
    "            if os.path.exists(outpath) and not overwrite:\n",
    "                continue\n",
    "\n",
    "            print('attempting to read')\n",
    "\n",
    "            # continue\n",
    "            # assert False\n",
    "            ad = sc.read_h5ad(ad_path) if not ad_path in ad_by_path else ad_by_path[ad_path]\n",
    "\n",
    "            # if n_sample_cells is not None:\n",
    "            # if n_sample_cells < ad.shape[0]:\n",
    "            print(n_sample_cells)\n",
    "            adata = sc.pp.subsample(ad,\n",
    "                                    n_obs=ad.shape[0] if isinstance(n_sample_cells, str) else n_sample_cells,\n",
    "                                    copy=True,\n",
    "                                    random_state=ad.shape[0] if isinstance(n_sample_cells, str) else n_sample_cells)\n",
    "            # else:\n",
    "            #     adata = ad\n",
    "            #     last = True\n",
    "            # else:\n",
    "            #     adata = ad\n",
    "\n",
    "            print('after cells selection', adata.shape)\n",
    "\n",
    "            # sc.pp.highly_variable_genes(adata, n_top_genes=2500)\n",
    "            # using episcanpy\n",
    "            print('selection rule', selection)\n",
    "            if selection == 'episcanpy':\n",
    "                acc = (adata.X != 0).sum(axis=0) / adata.shape[0]\n",
    "                acc_score = abs(.5 - acc)\n",
    "                adata.var['acc_score'] = acc_score.A.T\n",
    "                adata.var['acc_score_rank'] = adata.var['acc_score'].rank(ascending=False)\n",
    "                # plt.hist(atac.var['acc_score'], bins=35)\n",
    "\n",
    "                var_sample = adata.var.sort_values('acc_score_rank', ascending=False).index # [:n_sample_peaks if n_sample_peaks is not 'ALL' else adata.shape[1]]\n",
    "\n",
    "                # select until getting N peaks with non-zero sums\n",
    "                var_subset = []\n",
    "                n_non_zero = 0\n",
    "                for v, n in zip(var_sample, adata.X.sum(axis=0).A.flatten()):\n",
    "                    var_subset.append(v)\n",
    "                    if n != 0:\n",
    "                        n_non_zero += 1\n",
    "                    if n_non_zero >= (n_sample_peaks if n_sample_peaks is not 'ALL' else adata.shape[1]):\n",
    "                        break\n",
    "                adata = adata[:,adata.var_names.isin(set(var_subset))].copy()\n",
    "                # adata = adata[:,adata.var_names.isin(var_sample)].copy()\n",
    "\n",
    "\n",
    "            elif selection == 'random':\n",
    "                # obs_sample = pd.Series(adata.obs_names).sample(n_sample_cells)\n",
    "                var_sample = pd.Series(adata.var_names).sample(n_sample_peaks if isinstance(n_sample_peaks, int) else adata.shape[1])\n",
    "                # var_sample = atac.var.sort_values('acc_score_rank').index[:n_sample_peaks]\n",
    "                # adata = adata[adata.obs_names.isin(obs_sample),adata.var_names.isin(var_sample)].copy()\n",
    "                adata = adata[:,adata.var_names.isin(var_sample)].copy()\n",
    "\n",
    "            print('after peaks selection', adata.shape)\n",
    "\n",
    "            print('sum of reads', adata.X.sum())\n",
    "            if adata.X.sum() == 0:\n",
    "                print('skip...not too many peaks after selection...')\n",
    "                continue\n",
    "\n",
    "            # adata.shape\n",
    "            sc.pp.neighbors(adata) #  method='rapids')\n",
    "            sc.tl.umap(adata, init_pos=\"random\", random_state=1) #  method='rapids')\n",
    "\n",
    "            # out of memory in very large cases\n",
    "            # rapids.pp.neighbors(adata) #  method='rapids')\n",
    "            # rapids.tl.umap(adata, init_pos=\"random\", random_state=1) #  method='rapids')\n",
    "\n",
    "            # adata.X.A.max()\n",
    "            # sc.pl.umap(adata, color='celltype')\n",
    "            assert outpath != ad_path\n",
    "\n",
    "            # adata.shape\n",
    "            adata.write(outpath, compression='lzf')\n",
    "\n",
    "            # if last:\n",
    "            #     break"
   ]
  }
 ],
 "metadata": {
  "kernelspec": {
   "display_name": "mubind",
   "language": "python",
   "name": "mubind"
  },
  "orig_nbformat": 4
 },
 "nbformat": 4,
 "nbformat_minor": 2
}
