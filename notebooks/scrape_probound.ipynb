{
 "cells": [
  {
   "cell_type": "code",
   "execution_count": 1,
   "metadata": {},
   "outputs": [],
   "source": [
    "import sys,os\n",
    "import time\n",
    "import pandas as pd\n",
    "import pickle\n",
    "\n",
    "from tqdm.notebook import tqdm\n",
    "from selenium import webdriver\n",
    "from selenium.webdriver.common.by import By\n",
    "from selenium.webdriver.support.ui import WebDriverWait\n",
    "from selenium.webdriver.support import expected_conditions as EC\n",
    "\n",
    "\n",
    "import warnings\n",
    "warnings.filterwarnings('ignore')"
   ]
  },
  {
   "cell_type": "code",
   "execution_count": 2,
   "metadata": {},
   "outputs": [],
   "source": [
    "base_url = 'https://motifcentral.org/fit/'\n",
    "DRIVER = webdriver.Safari # TODO change to Chrome or Firefox based on local availability\n",
    "\n",
    "data_keys = [\n",
    "    'Pearson\\'s r2 (k-mer)',\n",
    "    'Pearson\\'s r2 (affinity-binned)',\n",
    "    'Maximum predicted bin enrichment',\n",
    "    'Maximum observed bin enrichment',\n",
    "    'Partial Pearson\\'s r2',\n",
    "    'Predicted partial max bin enrichment',\n",
    "    'Observed partial max bin enrichment',\n",
    "    'R2',\n",
    "    'Enrichment',\n",
    "    'R2, partial',\n",
    "    'Enrichment, partial',\n",
    "    ]"
   ]
  },
  {
   "attachments": {},
   "cell_type": "markdown",
   "metadata": {},
   "source": [
    "Next cell fills `ids` to use later."
   ]
  },
  {
   "cell_type": "code",
   "execution_count": 7,
   "metadata": {},
   "outputs": [
    {
     "name": "stdout",
     "output_type": "stream",
     "text": [
      "num_pages 88\n"
     ]
    },
    {
     "data": {
      "application/vnd.jupyter.widget-view+json": {
       "model_id": "8f296fd4887a4bb18cf67a9835d776e3",
       "version_major": 2,
       "version_minor": 0
      },
      "text/plain": [
       "  0%|          | 0/88 [00:00<?, ?it/s]"
      ]
     },
     "metadata": {},
     "output_type": "display_data"
    },
    {
     "name": "stdout",
     "output_type": "stream",
     "text": [
      "Collected 880 ids\n"
     ]
    }
   ],
   "source": [
    "import re \n",
    "\n",
    "try:\n",
    "    browser = DRIVER()\n",
    "    browser.get('https://motifcentral.org/home')\n",
    "\n",
    "    el = WebDriverWait(browser, timeout=10).until(\n",
    "        EC.text_to_be_present_in_element((By.TAG_NAME, 'body'), 'Complex')\n",
    "    )\n",
    "\n",
    "    num_pages = int(re.search('Number of Pages: [0-9]+', browser.page_source).group(0).split(' ')[-1])\n",
    "    print('num_pages', int(num_pages))\n",
    "    ids = []\n",
    "    for page in tqdm(range(num_pages)):\n",
    "        b1 = browser.find_elements(By.XPATH, '//span[@class = \"badge badge-pill badge-success\"]')\n",
    "        b2 = browser.find_elements(By.XPATH, '//span[@class = \"badge badge-pill badge-dark\"]')\n",
    "        b3 = browser.find_elements(By.XPATH, '//span[@class = \"badge badge-pill badge-light ng-star-inserted\"]')\n",
    "        for a, b, c in zip(b1, b2, b3):\n",
    "            ids.append((a.text, b.text, int(c.text[1:])))\n",
    "        time.sleep(2)\n",
    "        \n",
    "        # click next page\n",
    "        if page != num_pages - 1: # don't click next page on last page\n",
    "            button = browser.find_element(By.XPATH, '//button[@aria-label = \"Next page\"]')\n",
    "            button.click()\n",
    "\n",
    "\n",
    "    browser.quit()\n",
    "    print(f'Collected {len(ids)} ids')\n",
    "except Exception as e:\n",
    "    print(e)\n",
    "    browser.quit()"
   ]
  },
  {
   "cell_type": "code",
   "execution_count": 8,
   "metadata": {},
   "outputs": [],
   "source": [
    "with open('probound_ids.pkl', 'wb+') as f:\n",
    "    pickle.dump(ids, f)"
   ]
  },
  {
   "attachments": {},
   "cell_type": "markdown",
   "metadata": {},
   "source": [
    "Parse useful values from HTML page for each id"
   ]
  },
  {
   "cell_type": "code",
   "execution_count": 29,
   "metadata": {},
   "outputs": [
    {
     "name": "stdout",
     "output_type": "stream",
     "text": [
      "Total collected: 680\n"
     ]
    },
    {
     "name": "stderr",
     "output_type": "stream",
     "text": [
      "100%|██████████| 880/880 [00:00<00:00, 1910449.03it/s]"
     ]
    },
    {
     "name": "stdout",
     "output_type": "stream",
     "text": [
      "Total collected: 680\n"
     ]
    },
    {
     "name": "stderr",
     "output_type": "stream",
     "text": [
      "\n"
     ]
    }
   ],
   "source": [
    "from tqdm import tqdm\n",
    "browser = DRIVER() \n",
    "\n",
    "# id_results = dict() # (int, dict) dict\n",
    "print(f'Total collected: {len(id_results)}')\n",
    "for x, y, id in tqdm(ids):\n",
    "    if id in id_results.keys():\n",
    "        continue\n",
    "    try:\n",
    "        browser.get(base_url + str(id))\n",
    "\n",
    "        el = WebDriverWait(browser, timeout=20).until(\n",
    "            EC.text_to_be_present_in_element((By.ID, 'selexKMerPrediction'), 'Pearson')\n",
    "        )\n",
    "\n",
    "        rows = browser.find_elements(By.CLASS_NAME, \"row\")\n",
    "\n",
    "        # collect rows containing the lines from data_keys\n",
    "        result_rows = set()\n",
    "        for key in data_keys:\n",
    "            for r in rows:\n",
    "                if key in r.text and '_' not in r.text: \n",
    "                    if key == 'Predicted partial max bin enrichment':\n",
    "                        # hacky fix because colon is missing from webpage\n",
    "                        idx = r.text.index('nt') + 2\n",
    "                        result_rows.add(r.text[:idx] + ':' + r.text[idx:])\n",
    "                    else:\n",
    "                        result_rows.add(r.text)\n",
    "\n",
    "        results = dict() # (str, str) dict\n",
    "        for row in result_rows:\n",
    "            k, v = row.split(':')\n",
    "            results[k] = v.strip()\n",
    "\n",
    "        id_results[id] = results\n",
    "        time.sleep(2)\n",
    "\n",
    "        with open('../probound_id_results.pkl', 'wb') as f:\n",
    "            pickle.dump(id_results, f)\n",
    "    except Exception as e:\n",
    "        print(e)\n",
    "        browser.quit()\n",
    "print(f'Total collected: {len(id_results)}')\n",
    "        "
   ]
  },
  {
   "attachments": {},
   "cell_type": "markdown",
   "metadata": {},
   "source": [
    "## Analysis"
   ]
  },
  {
   "cell_type": "code",
   "execution_count": 10,
   "metadata": {},
   "outputs": [
    {
     "name": "stdout",
     "output_type": "stream",
     "text": [
      "Loaded 880 ids\n",
      "Loaded 680 results\n"
     ]
    }
   ],
   "source": [
    "with open('../probound_ids.pkl', 'rb+') as f:\n",
    "    ids = pickle.load(f)\n",
    "    print(f'Loaded {len(ids)} ids')\n",
    "\n",
    "with open('../probound_id_results.pkl', 'rb+') as f:\n",
    "    id_results = pickle.load(f)\n",
    "    print(f'Loaded {len(id_results)} results')"
   ]
  },
  {
   "cell_type": "code",
   "execution_count": 17,
   "metadata": {},
   "outputs": [],
   "source": [
    "ids_df = pd.DataFrame(ids, columns=['study', 'exp', 'id'])"
   ]
  },
  {
   "cell_type": "code",
   "execution_count": 20,
   "metadata": {},
   "outputs": [
    {
     "data": {
      "text/html": [
       "<div>\n",
       "<style scoped>\n",
       "    .dataframe tbody tr th:only-of-type {\n",
       "        vertical-align: middle;\n",
       "    }\n",
       "\n",
       "    .dataframe tbody tr th {\n",
       "        vertical-align: top;\n",
       "    }\n",
       "\n",
       "    .dataframe thead th {\n",
       "        text-align: right;\n",
       "    }\n",
       "</style>\n",
       "<table border=\"1\" class=\"dataframe\">\n",
       "  <thead>\n",
       "    <tr style=\"text-align: right;\">\n",
       "      <th></th>\n",
       "      <th>study</th>\n",
       "      <th>exp</th>\n",
       "      <th>id</th>\n",
       "    </tr>\n",
       "  </thead>\n",
       "  <tbody>\n",
       "    <tr>\n",
       "      <th>0</th>\n",
       "      <td>Nitta2015</td>\n",
       "      <td>abd-A_KU_TCACTT40NTTG</td>\n",
       "      <td>15412</td>\n",
       "    </tr>\n",
       "    <tr>\n",
       "      <th>1</th>\n",
       "      <td>Slattery2011</td>\n",
       "      <td>AbdB.16mer2_rep1</td>\n",
       "      <td>11232</td>\n",
       "    </tr>\n",
       "    <tr>\n",
       "      <th>2</th>\n",
       "      <td>Jolma2013</td>\n",
       "      <td>SPIB_ESAK_TGTCTA20NTCG</td>\n",
       "      <td>16273</td>\n",
       "    </tr>\n",
       "    <tr>\n",
       "      <th>3</th>\n",
       "      <td>Nitta2015</td>\n",
       "      <td>Aef1_KY_TCGAGT40NACT</td>\n",
       "      <td>16388</td>\n",
       "    </tr>\n",
       "    <tr>\n",
       "      <th>4</th>\n",
       "      <td>Nitta2015</td>\n",
       "      <td>al_KY_TTTCAA40NTGA</td>\n",
       "      <td>15421</td>\n",
       "    </tr>\n",
       "    <tr>\n",
       "      <th>...</th>\n",
       "      <td>...</td>\n",
       "      <td>...</td>\n",
       "      <td>...</td>\n",
       "    </tr>\n",
       "    <tr>\n",
       "      <th>875</th>\n",
       "      <td>Yin2017</td>\n",
       "      <td>ARNTL_eDBD_KV_TCTCCG40NCG...</td>\n",
       "      <td>17963</td>\n",
       "    </tr>\n",
       "    <tr>\n",
       "      <th>876</th>\n",
       "      <td>Jolma2013</td>\n",
       "      <td>Arx_ESAC_TCGCAT20NACT</td>\n",
       "      <td>13720</td>\n",
       "    </tr>\n",
       "    <tr>\n",
       "      <th>877</th>\n",
       "      <td>Yin2017</td>\n",
       "      <td>ARX_eDBD_KO_TAGCGC40NCGC-...</td>\n",
       "      <td>16638</td>\n",
       "    </tr>\n",
       "    <tr>\n",
       "      <th>878</th>\n",
       "      <td>Yin2017</td>\n",
       "      <td>ASCL1_eDBD_KR_TGCGCA40NCA...</td>\n",
       "      <td>17025</td>\n",
       "    </tr>\n",
       "    <tr>\n",
       "      <th>879</th>\n",
       "      <td>Yang2017</td>\n",
       "      <td>Ascl2_ESZ_TAGGGC20NCG</td>\n",
       "      <td>13270</td>\n",
       "    </tr>\n",
       "  </tbody>\n",
       "</table>\n",
       "<p>880 rows × 3 columns</p>\n",
       "</div>"
      ],
      "text/plain": [
       "            study                           exp     id\n",
       "0       Nitta2015         abd-A_KU_TCACTT40NTTG  15412\n",
       "1    Slattery2011              AbdB.16mer2_rep1  11232\n",
       "2       Jolma2013        SPIB_ESAK_TGTCTA20NTCG  16273\n",
       "3       Nitta2015          Aef1_KY_TCGAGT40NACT  16388\n",
       "4       Nitta2015            al_KY_TTTCAA40NTGA  15421\n",
       "..            ...                           ...    ...\n",
       "875       Yin2017  ARNTL_eDBD_KV_TCTCCG40NCG...  17963\n",
       "876     Jolma2013         Arx_ESAC_TCGCAT20NACT  13720\n",
       "877       Yin2017  ARX_eDBD_KO_TAGCGC40NCGC-...  16638\n",
       "878       Yin2017  ASCL1_eDBD_KR_TGCGCA40NCA...  17025\n",
       "879      Yang2017         Ascl2_ESZ_TAGGGC20NCG  13270\n",
       "\n",
       "[880 rows x 3 columns]"
      ]
     },
     "execution_count": 20,
     "metadata": {},
     "output_type": "execute_result"
    }
   ],
   "source": [
    "ids_df"
   ]
  },
  {
   "cell_type": "code",
   "execution_count": null,
   "metadata": {},
   "outputs": [],
   "source": []
  }
 ],
 "metadata": {
  "kernelspec": {
   "display_name": "mubind",
   "language": "python",
   "name": "python3"
  },
  "language_info": {
   "codemirror_mode": {
    "name": "ipython",
    "version": 3
   },
   "file_extension": ".py",
   "mimetype": "text/x-python",
   "name": "python",
   "nbconvert_exporter": "python",
   "pygments_lexer": "ipython3",
   "version": "3.10.6"
  },
  "orig_nbformat": 4,
  "vscode": {
   "interpreter": {
    "hash": "598830fe471ad270c8799031f2ac384ffcd0e141210cbf2b0994cc2f8665407f"
   }
  }
 },
 "nbformat": 4,
 "nbformat_minor": 2
}
