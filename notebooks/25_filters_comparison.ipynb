{
 "cells": [
  {
   "cell_type": "code",
   "execution_count": 2,
   "metadata": {},
   "outputs": [],
   "source": [
    "%load_ext autoreload\n",
    "%autoreload 2"
   ]
  },
  {
   "cell_type": "code",
   "execution_count": 3,
   "metadata": {},
   "outputs": [
    {
     "name": "stderr",
     "output_type": "stream",
     "text": [
      "Fontconfig warning: ignoring UTF-8: not a valid region tag\n"
     ]
    }
   ],
   "source": [
    "import numpy as np\n",
    "import os\n",
    "import torch\n",
    "import itertools\n",
    "import glob\n",
    "import pandas as pd\n",
    "from pathlib import Path\n",
    "import mubind as mb\n",
    "from tqdm.notebook import tqdm_notebook as tqdm"
   ]
  },
  {
   "cell_type": "code",
   "execution_count": 4,
   "metadata": {},
   "outputs": [
    {
     "name": "stdout",
     "output_type": "stream",
     "text": [
      "Using device: cpu\n"
     ]
    }
   ],
   "source": [
    "device = torch.device(\"cuda:0\" if torch.cuda.is_available() else \"cpu\")\n",
    "print(\"Using device: \" + str(device))\n",
    "\n",
    "# suppress numba deprecations warnings\n",
    "from numba.core.errors import NumbaDeprecationWarning, NumbaPendingDeprecationWarning\n",
    "import warnings\n",
    "\n",
    "warnings.simplefilter('ignore', category=NumbaDeprecationWarning)\n",
    "warnings.simplefilter('ignore', category=NumbaPendingDeprecationWarning)"
   ]
  },
  {
   "cell_type": "code",
   "execution_count": 5,
   "metadata": {},
   "outputs": [],
   "source": [
    "# path to dir containing pwm txt files\n",
    "base_path = Path('/Users/egeerdogan/Downloads/Homo_sapiens/pwms_all_motifs')"
   ]
  },
  {
   "attachments": {},
   "cell_type": "markdown",
   "metadata": {},
   "source": [
    "Load all pwms into separate dataframes."
   ]
  },
  {
   "cell_type": "code",
   "execution_count": 6,
   "metadata": {},
   "outputs": [],
   "source": [
    "# collect paths to all pwms\n",
    "motif_paths = []\n",
    "for p in base_path.rglob('*'):\n",
    "    motif_paths.append(p)\n",
    "\n",
    "pwms = [pd.read_csv(p, sep='\\t').drop(columns=['Pos'], axis=1) for p in motif_paths]"
   ]
  },
  {
   "cell_type": "code",
   "execution_count": 7,
   "metadata": {},
   "outputs": [
    {
     "data": {
      "text/html": [
       "<div>\n",
       "<style scoped>\n",
       "    .dataframe tbody tr th:only-of-type {\n",
       "        vertical-align: middle;\n",
       "    }\n",
       "\n",
       "    .dataframe tbody tr th {\n",
       "        vertical-align: top;\n",
       "    }\n",
       "\n",
       "    .dataframe thead th {\n",
       "        text-align: right;\n",
       "    }\n",
       "</style>\n",
       "<table border=\"1\" class=\"dataframe\">\n",
       "  <thead>\n",
       "    <tr style=\"text-align: right;\">\n",
       "      <th></th>\n",
       "      <th>A</th>\n",
       "      <th>C</th>\n",
       "      <th>G</th>\n",
       "      <th>T</th>\n",
       "    </tr>\n",
       "  </thead>\n",
       "  <tbody>\n",
       "    <tr>\n",
       "      <th>0</th>\n",
       "      <td>0.126205</td>\n",
       "      <td>0.449849</td>\n",
       "      <td>0.241867</td>\n",
       "      <td>0.182078</td>\n",
       "    </tr>\n",
       "    <tr>\n",
       "      <th>1</th>\n",
       "      <td>0.115512</td>\n",
       "      <td>0.455572</td>\n",
       "      <td>0.265060</td>\n",
       "      <td>0.163855</td>\n",
       "    </tr>\n",
       "    <tr>\n",
       "      <th>2</th>\n",
       "      <td>0.116114</td>\n",
       "      <td>0.515813</td>\n",
       "      <td>0.167470</td>\n",
       "      <td>0.200602</td>\n",
       "    </tr>\n",
       "    <tr>\n",
       "      <th>3</th>\n",
       "      <td>0.159639</td>\n",
       "      <td>0.449849</td>\n",
       "      <td>0.132982</td>\n",
       "      <td>0.257530</td>\n",
       "    </tr>\n",
       "    <tr>\n",
       "      <th>4</th>\n",
       "      <td>0.205271</td>\n",
       "      <td>0.315512</td>\n",
       "      <td>0.367169</td>\n",
       "      <td>0.112048</td>\n",
       "    </tr>\n",
       "    <tr>\n",
       "      <th>5</th>\n",
       "      <td>0.092771</td>\n",
       "      <td>0.239157</td>\n",
       "      <td>0.553916</td>\n",
       "      <td>0.114157</td>\n",
       "    </tr>\n",
       "    <tr>\n",
       "      <th>6</th>\n",
       "      <td>0.037048</td>\n",
       "      <td>0.734639</td>\n",
       "      <td>0.133133</td>\n",
       "      <td>0.095181</td>\n",
       "    </tr>\n",
       "    <tr>\n",
       "      <th>7</th>\n",
       "      <td>0.056325</td>\n",
       "      <td>0.719277</td>\n",
       "      <td>0.034940</td>\n",
       "      <td>0.189458</td>\n",
       "    </tr>\n",
       "    <tr>\n",
       "      <th>8</th>\n",
       "      <td>0.106325</td>\n",
       "      <td>0.871687</td>\n",
       "      <td>0.014759</td>\n",
       "      <td>0.007229</td>\n",
       "    </tr>\n",
       "    <tr>\n",
       "      <th>9</th>\n",
       "      <td>0.031024</td>\n",
       "      <td>0.890211</td>\n",
       "      <td>0.034337</td>\n",
       "      <td>0.044428</td>\n",
       "    </tr>\n",
       "    <tr>\n",
       "      <th>10</th>\n",
       "      <td>0.087349</td>\n",
       "      <td>0.050602</td>\n",
       "      <td>0.627560</td>\n",
       "      <td>0.234488</td>\n",
       "    </tr>\n",
       "    <tr>\n",
       "      <th>11</th>\n",
       "      <td>0.004518</td>\n",
       "      <td>0.966265</td>\n",
       "      <td>0.019578</td>\n",
       "      <td>0.009639</td>\n",
       "    </tr>\n",
       "    <tr>\n",
       "      <th>12</th>\n",
       "      <td>0.009940</td>\n",
       "      <td>0.977410</td>\n",
       "      <td>0.010241</td>\n",
       "      <td>0.002410</td>\n",
       "    </tr>\n",
       "    <tr>\n",
       "      <th>13</th>\n",
       "      <td>0.004217</td>\n",
       "      <td>0.854819</td>\n",
       "      <td>0.002410</td>\n",
       "      <td>0.138554</td>\n",
       "    </tr>\n",
       "    <tr>\n",
       "      <th>14</th>\n",
       "      <td>0.165964</td>\n",
       "      <td>0.638253</td>\n",
       "      <td>0.075000</td>\n",
       "      <td>0.120783</td>\n",
       "    </tr>\n",
       "    <tr>\n",
       "      <th>15</th>\n",
       "      <td>0.073795</td>\n",
       "      <td>0.554669</td>\n",
       "      <td>0.199699</td>\n",
       "      <td>0.171837</td>\n",
       "    </tr>\n",
       "    <tr>\n",
       "      <th>16</th>\n",
       "      <td>0.115211</td>\n",
       "      <td>0.389307</td>\n",
       "      <td>0.219277</td>\n",
       "      <td>0.276205</td>\n",
       "    </tr>\n",
       "    <tr>\n",
       "      <th>17</th>\n",
       "      <td>0.112952</td>\n",
       "      <td>0.439006</td>\n",
       "      <td>0.220030</td>\n",
       "      <td>0.228012</td>\n",
       "    </tr>\n",
       "    <tr>\n",
       "      <th>18</th>\n",
       "      <td>0.131175</td>\n",
       "      <td>0.474849</td>\n",
       "      <td>0.218373</td>\n",
       "      <td>0.175602</td>\n",
       "    </tr>\n",
       "    <tr>\n",
       "      <th>19</th>\n",
       "      <td>0.147364</td>\n",
       "      <td>0.418599</td>\n",
       "      <td>0.226431</td>\n",
       "      <td>0.207605</td>\n",
       "    </tr>\n",
       "  </tbody>\n",
       "</table>\n",
       "</div>"
      ],
      "text/plain": [
       "           A         C         G         T\n",
       "0   0.126205  0.449849  0.241867  0.182078\n",
       "1   0.115512  0.455572  0.265060  0.163855\n",
       "2   0.116114  0.515813  0.167470  0.200602\n",
       "3   0.159639  0.449849  0.132982  0.257530\n",
       "4   0.205271  0.315512  0.367169  0.112048\n",
       "5   0.092771  0.239157  0.553916  0.114157\n",
       "6   0.037048  0.734639  0.133133  0.095181\n",
       "7   0.056325  0.719277  0.034940  0.189458\n",
       "8   0.106325  0.871687  0.014759  0.007229\n",
       "9   0.031024  0.890211  0.034337  0.044428\n",
       "10  0.087349  0.050602  0.627560  0.234488\n",
       "11  0.004518  0.966265  0.019578  0.009639\n",
       "12  0.009940  0.977410  0.010241  0.002410\n",
       "13  0.004217  0.854819  0.002410  0.138554\n",
       "14  0.165964  0.638253  0.075000  0.120783\n",
       "15  0.073795  0.554669  0.199699  0.171837\n",
       "16  0.115211  0.389307  0.219277  0.276205\n",
       "17  0.112952  0.439006  0.220030  0.228012\n",
       "18  0.131175  0.474849  0.218373  0.175602\n",
       "19  0.147364  0.418599  0.226431  0.207605"
      ]
     },
     "execution_count": 7,
     "metadata": {},
     "output_type": "execute_result"
    }
   ],
   "source": [
    "pwms[0]"
   ]
  },
  {
   "attachments": {},
   "cell_type": "markdown",
   "metadata": {},
   "source": [
    "**TODO**: assign a `Multibind` instance to `multibind_model`."
   ]
  },
  {
   "cell_type": "code",
   "execution_count": null,
   "metadata": {},
   "outputs": [],
   "source": [
    "# TODO \n",
    "multibind_model = None \n",
    "\n",
    "filter_dists = [] # list of distance lists for each multibind filter\n",
    "for mb_filter in multibind_model.binding_modes.conv_mono[1:]: # skip first None filter\n",
    "    dists = [] # distance list of one multibind filter for each pwm\n",
    "    for i, pwm in enumerate(tqdm(pwms, leave=False)):\n",
    "        if pwm.shape[0] > 5: \n",
    "            a = mb_filter.weight.detach().numpy()\n",
    "            a = a.reshape((4, a.shape[-1]))\n",
    "            b = pwm.values.T \n",
    "            d = mb.tl.min_distance(a, b)\n",
    "            dists.append(d)\n",
    "    filter_dists.append(dists)"
   ]
  },
  {
   "cell_type": "code",
   "execution_count": null,
   "metadata": {},
   "outputs": [],
   "source": [
    "print('Layer\\tMin dist\\t\\tIndex')\n",
    "for i, dists in enumerate(filter_dists):\n",
    "    min_dist = min(dists)\n",
    "    print(f'{i}\\t{min_dist}\\t{dists.index(min_dist)}')"
   ]
  }
 ],
 "metadata": {
  "kernelspec": {
   "display_name": "mubind",
   "language": "python",
   "name": "python3"
  },
  "language_info": {
   "codemirror_mode": {
    "name": "ipython",
    "version": 3
   },
   "file_extension": ".py",
   "mimetype": "text/x-python",
   "name": "python",
   "nbconvert_exporter": "python",
   "pygments_lexer": "ipython3",
   "version": "3.10.6"
  },
  "orig_nbformat": 4,
  "vscode": {
   "interpreter": {
    "hash": "598830fe471ad270c8799031f2ac384ffcd0e141210cbf2b0994cc2f8665407f"
   }
  }
 },
 "nbformat": 4,
 "nbformat_minor": 2
}
